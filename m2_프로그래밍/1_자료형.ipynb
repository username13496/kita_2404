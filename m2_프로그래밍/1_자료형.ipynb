{
  "nbformat": 4,
  "nbformat_minor": 0,
  "metadata": {
    "colab": {
      "provenance": [],
      "collapsed_sections": [
        "tOqsB7T31EoC",
        "7SQUKbzBJZbA",
        "q0Qqb2QFJ3ew",
        "kAhH2QRgJS8P",
        "Mxfh61WBOSxJ",
        "LuwOVnc4y7bu",
        "hX40bBZN7QcH",
        "hqWs0Xg7BrA0",
        "5aOCfkE4Fpe7",
        "jg_y74niGbwt",
        "kXU-Kz5woESK",
        "3CSEJtfWrMBI",
        "VfeF_eGCm6_c",
        "Iah8gRbg8V3F",
        "omZFs1Y-hqC4",
        "B4HIfYu3hyQW"
      ]
    },
    "kernelspec": {
      "name": "python3",
      "display_name": "Python 3"
    },
    "language_info": {
      "name": "python"
    }
  },
  "cells": [
    {
      "cell_type": "markdown",
      "source": [
        "# Python"
      ],
      "metadata": {
        "id": "tOqsB7T31EoC"
      }
    },
    {
      "cell_type": "markdown",
      "source": [
        "#### 파이썬 이란\n",
        "- 1990년 암스테르담의 귀도 반 로섬(Guido Van Rossum)이 개발한 인터프리터 언어\n",
        "- 컴퓨터 프로그래밍 교육을 위해 많이 사용하지만, 기업의 실무를 위해서도 많이 사용하는 언어. 구글에서 만든 소프트웨어의 50%이상이 파이썬으로 작성\n",
        "\n",
        "#### 파이썬의 특징\n",
        "- 파이썬은 인간다운 언어이다\n",
        "- 파이썬은 문법이 쉬워 빠르게 배울 수 있다\n",
        "- 파이썬은 무료이지만 강력하다\n",
        "- 파이썬은 간결하다\n",
        "- 파이썬은 프로그래밍을 즐기게 해준다\n",
        "- 파이썬은 개발 속도가 빠르다"
      ],
      "metadata": {
        "id": "os2O3ay8170L"
      }
    },
    {
      "cell_type": "markdown",
      "source": [
        "#### 파이썬으로 할 수 있는 일\n",
        "- 웹 개발: Django, Flask 등의 프레임워크를 사용하여 웹 애플리케이션을 개발할 수 있습니다.\n",
        "- 데이터 분석: Pandas, NumPy, SciPy와 같은 라이브러리를 사용하여 데이터를 분석하고 처리할 수 있습니다.\n",
        "- 머신 러닝과 인공지능: TensorFlow, PyTorch(딥러닝 위한 모듈 메서드 지원), Scikit-learn(머신러닝) 등의 라이브러리를 활용하여 머신 러닝 모델을 구축하고 훈련시킬 수 있습니다.\n",
        "- 자동화: 파이썬 스크립트를 작성하여 일상적인 작업을 자동화하고, 시스템 관리 작업을 수행할 수 있습니다.\n",
        "- 게임 개발: Pygame과 같은 라이브러리를 사용하여 간단한 게임을 개발할 수 있습니다.\n",
        "- 모바일 애플리케이션 개발: Kivy 또는 BeeWare와 같은 라이브러리를 사용하여 모바일 애플리케이션을 개발할 수 있습니다.\n",
        "- 데스크탑 애플리케이션 개발: PyQt, Tkinter 등의 라이브러리를 활용하여 데스크탑 애플리케이션을 개발할 수 있습니다.\n",
        "- 시스템 스크립팅과 네트워킹: 시스템 유틸리티를 개발하거나 네트워크 프로토콜을 구현할 수 있습니다.\n",
        "- 임베디드 시스템과 하드웨어 제어: 라즈베리 파이와 같은 임베디드 시스템을 제어하고 하드웨어를 프로그래밍할 수 있습니다.\n",
        "- 사이언티픽 컴퓨팅: 과학적 연산과 시뮬레이션을 위해 파이썬을 활용할 수 있습니다.\n",
        "- 교육: 파이썬은 초보자에게 프로그래밍을 가르치는 데 이상적인 언어로 평가받고 있습니다.\n",
        "- 파이썬의 다양한 라이브러리와 프레임워크 덕분에, 이러한 분야에서의 작업이 더욱 쉽고 효율적으로 수행될 수 있습니다."
      ],
      "metadata": {
        "id": "0c0FF-LP7yuA"
      }
    },
    {
      "cell_type": "code",
      "source": [
        "# ! 기호는 Colab 셀에서 Unix/Linux 셀 명령어를 실행\n",
        "!python --version"
      ],
      "metadata": {
        "id": "tCPkUkUyBjf1",
        "colab": {
          "base_uri": "https://localhost:8080/"
        },
        "outputId": "8781fcc1-4456-492a-8278-3510cab73e34"
      },
      "execution_count": null,
      "outputs": [
        {
          "output_type": "stream",
          "name": "stdout",
          "text": [
            "Python 3.10.12\n"
          ]
        }
      ]
    },
    {
      "cell_type": "code",
      "source": [
        "#현재 작업필터 홛인\n",
        "%pwd"
      ],
      "metadata": {
        "id": "Z8Su6tgKB_p4",
        "colab": {
          "base_uri": "https://localhost:8080/",
          "height": 35
        },
        "outputId": "daaaaa7e-21d7-4966-c0da-4a2883732d4d"
      },
      "execution_count": null,
      "outputs": [
        {
          "output_type": "execute_result",
          "data": {
            "text/plain": [
              "'/content'"
            ],
            "application/vnd.google.colaboratory.intrinsic+json": {
              "type": "string"
            }
          },
          "metadata": {},
          "execution_count": 17
        }
      ]
    },
    {
      "cell_type": "code",
      "source": [
        "# % 기호는 !Python 환경(즉, Colab이 포함된 Jupyter 환경에서 제공하는 매직 명령어를 사용 다른데서는 안됨)\n",
        "# 라인 매직(줄 단위)은 단일 라인에 대해 실행되어 % 하나를 사용하고 셀 매직(전체)은 셀 전체에 적용되며 %%를 사용\n",
        "# 현재 작업필터 확인\n",
        "%pwd"
      ],
      "metadata": {
        "id": "igu1xsc-Cacu",
        "colab": {
          "base_uri": "https://localhost:8080/",
          "height": 35
        },
        "outputId": "53a67dd8-3166-4000-89e3-dc707cbd1676"
      },
      "execution_count": null,
      "outputs": [
        {
          "output_type": "execute_result",
          "data": {
            "text/plain": [
              "'/content'"
            ],
            "application/vnd.google.colaboratory.intrinsic+json": {
              "type": "string"
            }
          },
          "metadata": {},
          "execution_count": 18
        }
      ]
    },
    {
      "cell_type": "code",
      "source": [
        "%%time\n",
        "# 간단한 for 루프를 사용한 개선\n",
        "sum = 0\n",
        "for i in range(1000):\n",
        "   sum += i\n",
        "print(sum)\n"
      ],
      "metadata": {
        "id": "p9s3zhybC1fq",
        "colab": {
          "base_uri": "https://localhost:8080/"
        },
        "outputId": "534600d5-7a16-4cd5-af14-a417d7c146c3"
      },
      "execution_count": null,
      "outputs": [
        {
          "output_type": "stream",
          "name": "stdout",
          "text": [
            "499500\n",
            "CPU times: user 1.27 ms, sys: 0 ns, total: 1.27 ms\n",
            "Wall time: 2.08 ms\n"
          ]
        }
      ]
    },
    {
      "cell_type": "markdown",
      "source": [
        "#### 용어\n",
        "- 식별자 : 프로그램밍 언어에서 이름을 붙일 때 사용하는 단어. 주로 변수 또는 함수 이름 등으로 사용\n",
        "- 주석 : 프로그램을 설명하기 위해 사용. # 기호로 주석 처리\n",
        "- 연산자 : 스스로 값이 되는 것이 아니고 값과 값 사이에 무언가 기능을 적용할 때 사용\n",
        "- 자료 : 리터럴이라고 하는데 숫자이든 문자이든 어떠한 값 자체를 의미. 1, 10, \"Hello\"\n",
        "- 키워드 : 파이썬이 만들어질 때 이미 사용하겠다고 예약해 놓는 것. False, None, True, ...\n",
        "- 프로그램밍 언어에서 사용자가 이름을 정할 때 키워드는 사용할 수 없음"
      ],
      "metadata": {
        "id": "Ych6O0_aDvYm"
      }
    },
    {
      "cell_type": "markdown",
      "source": [
        "#### 식별자\n",
        "count, user_name, _is_valid, calculate_area, Car, model, year, math 및 m 모두 유효한 식별자. 각각의 식별자는 특정한 데이터 또는 기능에 이름을 부여하여 코드 내에서 해당 데이터나 기능을 참조할 수 있게하며 코드의 가독성과 유지 보수성을 높이는 데 중요한 역할"
      ],
      "metadata": {
        "id": "5nAo__ogDzu5"
      }
    },
    {
      "cell_type": "code",
      "source": [
        "a = 1\n",
        "b = 1\n",
        "c = a + b\n",
        "print(c)"
      ],
      "metadata": {
        "id": "_sX1UmnczM9t",
        "colab": {
          "base_uri": "https://localhost:8080/"
        },
        "outputId": "301526e3-74a7-4584-b0c9-3e62da4fbe9d"
      },
      "execution_count": null,
      "outputs": [
        {
          "output_type": "stream",
          "name": "stdout",
          "text": [
            "2\n"
          ]
        }
      ]
    },
    {
      "cell_type": "code",
      "source": [
        "def calculate_area(radius):\n",
        "    return 3.14159 * radius * radius"
      ],
      "metadata": {
        "id": "4-7wEOm00NhG"
      },
      "execution_count": null,
      "outputs": []
    },
    {
      "cell_type": "code",
      "source": [
        "# 변수 식별자\n",
        "count = 10\n",
        "user_name 'Alice'\n",
        "_is_vaild = True\n",
        "\n",
        "# 함수 식별자\n",
        "def calculate_area(radius):\n",
        "    return 3.14159 * radius * radius\n",
        "\n",
        "# 클래스 식별자\n",
        "class Car:\n",
        "  def __init__(self, model, year) :\n",
        "      self.model = model\n",
        "      self.year = year\n",
        "\n",
        "# 모듈 식별자\n",
        "import math as m\n"
      ],
      "metadata": {
        "id": "_AE23z_UD1ec",
        "colab": {
          "base_uri": "https://localhost:8080/",
          "height": 110
        },
        "outputId": "1a1b5ed0-4951-48c7-a654-34c11c2f2c59"
      },
      "execution_count": null,
      "outputs": [
        {
          "output_type": "error",
          "ename": "SyntaxError",
          "evalue": "invalid syntax (<ipython-input-23-1822eb3b42e8>, line 3)",
          "traceback": [
            "\u001b[0;36m  File \u001b[0;32m\"<ipython-input-23-1822eb3b42e8>\"\u001b[0;36m, line \u001b[0;32m3\u001b[0m\n\u001b[0;31m    user_name 'Alice'\u001b[0m\n\u001b[0m              ^\u001b[0m\n\u001b[0;31mSyntaxError\u001b[0m\u001b[0;31m:\u001b[0m invalid syntax\n"
          ]
        }
      ]
    },
    {
      "cell_type": "markdown",
      "source": [
        "####식별자 기본수칙\n",
        "\n",
        "- 키워드를 사용하면 안된다\n",
        "- 특수문자는 언더 바(_)만 사용\n",
        "- 숫자로 시작하면 안된다\n",
        "- 공백을 포함할 수 없다"
      ],
      "metadata": {
        "id": "150yGnbWIhV8"
      }
    },
    {
      "cell_type": "code",
      "source": [
        "import keyword\n",
        "print(keyword.kwlist)\n",
        "lan(keyword.kwlist)"
      ],
      "metadata": {
        "id": "u_JbEX_YJN61"
      },
      "execution_count": null,
      "outputs": []
    },
    {
      "cell_type": "code",
      "source": [
        "alpha\n",
        "break # 키워드\n",
        "alpha 10\n",
        "_alpha\n",
        "273alpha # 숫자\n",
        "alpha\n",
        "ALPHA\n",
        "has space # 공백"
      ],
      "metadata": {
        "id": "LfAXOmtvJwLa"
      },
      "execution_count": null,
      "outputs": []
    },
    {
      "cell_type": "markdown",
      "source": [
        "###Q.주어진 문자열 리스트에서 유효한 python 변수 이름만을 추출하여 반환하는 함수를 작성하세요"
      ],
      "metadata": {
        "id": "JU6V5K2GKXWM"
      }
    },
    {
      "cell_type": "code",
      "source": [
        "identifiers = [\"var1\", \"2things\", \"variable_name\", \"time!\"]"
      ],
      "metadata": {
        "id": "0qxbgVqPKnYK"
      },
      "execution_count": null,
      "outputs": []
    },
    {
      "cell_type": "code",
      "source": [
        "# indetifier()는 파이썬의 문자열 매서드로, 주어진 문자열이 유효한 식별자인지를 확인\n",
        "# isidentifier()는 예약어인지는 따로 체크하지 않음\n",
        "import keyword\n",
        "\n",
        "def valid_identifiers(identifiers):\n",
        "    valid = []  # 변수 이름을 'valid'로 수정\n",
        "    for identifier in identifiers:\n",
        "        if identifier.isidentifier() and not keyword.iskeyword(identifier):\n",
        "            valid.append(identifier)\n",
        "    return valid  # 'return'을 for 루프의 외부로 이동\n",
        "\n",
        "# 예제 실행\n",
        "identifiers = [\"var1\", \"2things\", \"variable_name\", \"time!\"]\n",
        "print(valid_identifiers(identifiers))\n"
      ],
      "metadata": {
        "id": "-M1Rkuvg1sr9"
      },
      "execution_count": null,
      "outputs": []
    },
    {
      "cell_type": "code",
      "source": [
        "#제거되는 시점에서 인덱스가 변경\n",
        "identifiers = [\"var1\", \"2things\", \"variable_name\", \"time!\"]\n",
        "\n",
        "for i in identifiers:\n",
        "    if i[0].isdigit() or not i.isalnum():\n",
        "        identifiers.remove(i)\n",
        "print(identifiers)"
      ],
      "metadata": {
        "id": "CEeEsqRG6lMy"
      },
      "execution_count": null,
      "outputs": []
    },
    {
      "cell_type": "markdown",
      "source": [
        "###파이썬은 snake_case와 CamelCase를 모두 사용\n",
        "- itemlist: item_list itemList\n",
        "- loginstatus: login_status loginStatus\n",
        "- 캐멀 케이스(대문자로 시작)클래스\n",
        "- 스네이크 케이스(소문자로 시작) 뒤에 ()가 있다 -함수\n",
        "- 스네이크 케이스(소문자로 시작) 뒤에 ()가 없다 -변수"
      ],
      "metadata": {
        "id": "kgkc_DVE7Sem"
      }
    },
    {
      "cell_type": "code",
      "source": [
        "\n",
        "# 연산자\n",
        "a = 5\n",
        "b = 3\n",
        "c = b % a\n",
        "d = b // a\n",
        "e = b / a\n",
        "print(c)\n",
        "print(d)\n",
        "print(e)"
      ],
      "metadata": {
        "id": "1249VwVd77dg"
      },
      "execution_count": null,
      "outputs": []
    },
    {
      "cell_type": "code",
      "source": [
        "a = 3\n",
        "b = 5\n",
        "\n",
        "if a > b :\n",
        "   print(a)"
      ],
      "metadata": {
        "id": "7DU_X-Ox_w5u"
      },
      "execution_count": null,
      "outputs": []
    },
    {
      "cell_type": "markdown",
      "source": [
        "#자료형"
      ],
      "metadata": {
        "id": "7SQUKbzBJZbA"
      }
    },
    {
      "cell_type": "markdown",
      "source": [
        "- 자료형 또는 데이터 타입이란 숫자, 문자 등과 같이 여러 종류의 데이터를 구분하기 위한 분류\n",
        "- 파이썬의 자료형은 크게 숫자(numbers), 시퀀스(sequence), 매핑(mapping) 등으로 나눌 수 있다.\n",
        "- 파이썬의 기본 자료형\n",
        "  - 수치형\n",
        "    - 정수형 : int는 정수(integer 인티져)를 나타낸다. 양의 정수와 음의 정수, 숫자 0 각각 하나하나의 요소\n",
        "    - 실수형 : float는 원래 부동소수점수(floating-point number)를 가리키는데, 지금은 단순히 소수점 이하를 표현할 수 있는 수이다.\n",
        "    - 복소수형 : 복소수를 complex로 나타내고 제곱하면 -1이 되는 수 i를 ‘허수(imaginary number)’라고 하는데 허수 i를 j로 표현\n",
        "  - 시퀀스 : 문자열(str), 리스트(list), 튜플(tuple), 사용자 정의 클래스가 시퀀스에 속한다. for 문에서 사용할 수 있는 것들이 바로 시퀀스(인덱스 가지고 수정 삭제)\n",
        "    - 문자열 : 문자를 한 줄로 표현하며 문자열 인덱스를 이용해 문자열의 일부를 복사\n",
        "    - 리스트 : 대괄호([ ])로 감싸 주고 각 요솟값은 쉼표(,)로 구분\n",
        "    - 튜플 : 튜플은 ( )으로 둘러싸고 각 요솟값은 쉼표(,)로 구분\n",
        "  - 매핑(인덱싱x 키로 찾기)\n",
        "    - 사전 : 딕셔너리(dict)는 키(key)와 값(value)의 짝으로 이뤄지는데 이런 것을 매핑\n",
        "  - 집합 : 집합을 표현하는 세트(set) {} 사용\n",
        "  - 블린 : 참, 거짓을 표현"
      ],
      "metadata": {
        "id": "Jb74zIj8h31Z"
      }
    },
    {
      "cell_type": "code",
      "source": [
        "# 정수형, 실수형\n",
        "i1 = 3\n",
        "f1 = 3.5\n",
        "print(i1)\n",
        "print(f1)"
      ],
      "metadata": {
        "id": "gryguH_aBoAE"
      },
      "execution_count": null,
      "outputs": []
    },
    {
      "cell_type": "code",
      "source": [
        "# 정수(int)\n",
        "print(int(True))\n",
        "print(int(False))\n",
        "print(int('100'))\n",
        "print(int(3.14))"
      ],
      "metadata": {
        "id": "8cLB1l0vC4gX"
      },
      "execution_count": null,
      "outputs": []
    },
    {
      "cell_type": "code",
      "source": [
        "#실수(float)\n",
        "print(float(True))\n",
        "print(float(False))\n",
        "print(float(100))\n",
        "print(float(3.14))"
      ],
      "metadata": {
        "id": "PSaAefcND69m"
      },
      "execution_count": null,
      "outputs": []
    },
    {
      "cell_type": "code",
      "source": [
        "# 사칙연산 : +, *, /, //, %. **\n",
        "a = 10\n",
        "b = 2.3\n",
        "print(a+b)\n",
        "print(a*b)\n",
        "print(a/b)\n",
        "print(a//b)\n",
        "print(a%b)\n",
        "print(a**b)\n",
        "print(int(a**b))"
      ],
      "metadata": {
        "id": "uc8zQNwmFDL2"
      },
      "execution_count": null,
      "outputs": []
    },
    {
      "cell_type": "code",
      "source": [
        "# 문자열\n",
        "string = '문자열'\n",
        "a = '100'"
      ],
      "metadata": {
        "id": "U4LEbUuTF6XG"
      },
      "execution_count": null,
      "outputs": []
    },
    {
      "cell_type": "code",
      "source": [
        "print(string)\n",
        "print(a)"
      ],
      "metadata": {
        "id": "lXGWAjfxGP5H"
      },
      "execution_count": null,
      "outputs": []
    },
    {
      "cell_type": "code",
      "source": [
        "a = 100\n",
        "b = 50\n",
        "print(a+b)\n",
        "a = '100'\n",
        "b = '50'\n",
        "print(a+b)"
      ],
      "metadata": {
        "id": "qXimuHFdGBKv"
      },
      "execution_count": null,
      "outputs": []
    },
    {
      "cell_type": "code",
      "source": [
        "a = int('100')\n",
        "b = int('50')\n",
        "print(a+b)\n",
        "a = float('100')\n",
        "b = float('50')\n",
        "print(a+b)"
      ],
      "metadata": {
        "id": "H3nYH1obHE0J"
      },
      "execution_count": null,
      "outputs": []
    },
    {
      "cell_type": "code",
      "source": [
        "# 사용자 입력\n",
        "input('인사말을 입력하세요')"
      ],
      "metadata": {
        "id": "56KVMFxaHj5S"
      },
      "execution_count": null,
      "outputs": []
    },
    {
      "cell_type": "code",
      "source": [
        "# input 함수를 입력해서 더한 결과를 출력하시오\n",
        "# input 함수는 입력받은 데이터를 string으로 처리한다\n",
        "a = input()\n",
        "b = input()\n",
        "print(a+b)"
      ],
      "metadata": {
        "id": "dF6tb3bIH7Kh"
      },
      "execution_count": null,
      "outputs": []
    },
    {
      "cell_type": "code",
      "source": [
        "# 두개의 정수를 입력해서 더한 결과를 출력하시오\n",
        "num1 = int(input('첫번째 숫자'))\n",
        "num2 = int(input('두번째 숫자'))\n",
        "\n",
        "print(num1+num2)"
      ],
      "metadata": {
        "id": "Sn-mVO1hIqAO"
      },
      "execution_count": null,
      "outputs": []
    },
    {
      "cell_type": "code",
      "source": [
        "# 실수 + 실수 > 실수\n",
        "# Q. 3과 3.3 을 입력하고 숫자 연산을 수행하여 6.3을 출력하세요\n",
        "a = float(input('3'))\n",
        "b = float(input('3.3'))\n",
        "print(a+b)"
      ],
      "metadata": {
        "id": "SKwVM-rGJVfi"
      },
      "execution_count": null,
      "outputs": []
    },
    {
      "cell_type": "code",
      "source": [
        "# 정수 + 실수 > 실수\n",
        "# Q. 3과 3.3 을 입력하고 숫자 연산을 수행하여 6.3을 출력하세요\n",
        "num1 = int(input('정수'))\n",
        "num2 = float(input('실수'))\n",
        "print(num1+num2)"
      ],
      "metadata": {
        "id": "K6htZrpyKQ_G"
      },
      "execution_count": null,
      "outputs": []
    },
    {
      "cell_type": "code",
      "source": [
        "# Q. a = 52와 b = 52.273일때 a+b는 5252.273으로 출력되도록 a와 bㄹ,ㄹ 문자형 자료형으로 변환하세요\n",
        "a =52\n",
        "b = 52.273\n",
        "a = str(a)\n",
        "b = str(b)\n",
        "print(a+b)"
      ],
      "metadata": {
        "id": "VxSNLEKnNiH-"
      },
      "execution_count": null,
      "outputs": []
    },
    {
      "cell_type": "code",
      "source": [
        "# 문자열 : \" \", ' ', \"\"\" \"\"\", ''' '''\n",
        "# p1 = 'python's value is great'\n",
        "p1 = \"python's value is great\"\n",
        "print(p1)"
      ],
      "metadata": {
        "id": "vP2HI91yOx9s"
      },
      "execution_count": null,
      "outputs": []
    },
    {
      "cell_type": "code",
      "source": [
        "# 백슬래시(\\)는 문자열 안에서 작은따옴표(')를 문자열의 끝을 의미하지 않는 일반 문자로 포함시키기 위해 채용\n",
        "# 이 기술을 이스케이프라 함\n",
        "p1 = \"python\\'s value is great\"\n",
        "print(p1)"
      ],
      "metadata": {
        "id": "zo0J_4-7PZCx"
      },
      "execution_count": null,
      "outputs": []
    },
    {
      "cell_type": "code",
      "source": [
        "# \\n 행 바꿈 \\t 탭 역할\n",
        "y1 = 'Once you study data analysis You need Python'\n",
        "y2 = 'Once you study data analysis\\nYou need Python'\n",
        "print(y1)\n",
        "print(y2)\n",
        "y3 = 'one\\tfour'\n",
        "print(y3)"
      ],
      "metadata": {
        "id": "JyK6qPwuRO04"
      },
      "execution_count": null,
      "outputs": []
    },
    {
      "cell_type": "code",
      "source": [
        "# ''' 띄어쓰기 역할 \"\"\" 도 동일\n",
        "y1 = '''\n",
        "Once you study data analysis\n",
        "You need Python\n",
        "'''\n",
        "y2 = \"\"\"\n",
        "Once you study data analysis\n",
        "You need Python\n",
        "\"\"\"\n",
        "print(y1)\n",
        "print(y2)"
      ],
      "metadata": {
        "id": "dgGUYK7VSP5B"
      },
      "execution_count": null,
      "outputs": []
    },
    {
      "cell_type": "code",
      "source": [
        "a1 = 'Python'\n",
        "a2 = 'is way to learn'\n",
        "print(a1+a2)\n",
        "print('a'*24)"
      ],
      "metadata": {
        "id": "kch2pExOSbp9"
      },
      "execution_count": null,
      "outputs": []
    },
    {
      "cell_type": "code",
      "source": [
        "# Q. 아래와 같이 출력할 수 있는 string을 만드세요\n",
        "string = '''\n",
        "\"What a wonderful world!\"\n",
        "he said loidly\n",
        "'''\n",
        "print(string)"
      ],
      "metadata": {
        "id": "7RMZ7MrAUb4q"
      },
      "execution_count": null,
      "outputs": []
    },
    {
      "cell_type": "code",
      "source": [
        "# 과제 1. 다른 타입의 숫자 2개를 입력받아 큰 수를 출력하세요\n",
        "n1 = int(input('첫번째 숫자'))\n",
        "n2 = int(input('두번째 숫자'))\n",
        "if n1>n2:\n",
        "    print(n1)\n",
        "elif n1<n2:\n",
        "    print(n2)\n",
        "else:\n",
        "  print(\"큰 수가 없습니다\")"
      ],
      "metadata": {
        "id": "8aJxieFnToXO"
      },
      "execution_count": null,
      "outputs": []
    },
    {
      "cell_type": "markdown",
      "source": [
        "# 자료형 - List\n"
      ],
      "metadata": {
        "id": "q0Qqb2QFJ3ew"
      }
    },
    {
      "cell_type": "markdown",
      "source": [
        "- 리스트는 []로 표시하며 []안의 요소를 영어로 구분하여 순서있게 나열\n",
        "- 구분은 , 리스트 안에 리스트 올 수 있음\n",
        "- 일반 파이썬에 리스트가 제일 많이 쓰임\n",
        "- 연산 다 됨\n",
        "- 여러가지 들어감"
      ],
      "metadata": {
        "id": "Y5E2Nh1ih7wj"
      }
    },
    {
      "cell_type": "code",
      "source": [
        "# 자료형 - List\n",
        "# 리스트는 []로 표시하며 []안의 요소를 영어로 구분하여 순서있게 나열 구분은 , 리스트 안에 리스트 올 수 있음\n",
        "# 일반 파이썬에 리스트가 제일 많이 쓰임\n",
        "list1 = [1,2,3,4,5]\n",
        "list2 = ['a','b','c']\n",
        "list3 = [[1,'a','acc'],[1,2,3,4,5],['a','b','c']]\n",
        "print(list1)\n",
        "print(list2)\n",
        "print(list3)"
      ],
      "metadata": {
        "id": "7xJiLEYFXGwm"
      },
      "execution_count": null,
      "outputs": []
    },
    {
      "cell_type": "code",
      "source": [
        "# 인덱싱\n",
        "list = [1,2,3,4,5]\n",
        "print(list[2])\n",
        "print(list[0:2])\n",
        "list[:4]\n",
        "# 에디터에서는 print(list[:4]) 해야함 jypter에선 이전거에 안 적어두면 마지막 결과만 나옴"
      ],
      "metadata": {
        "id": "IGR7ZznWp3Md"
      },
      "execution_count": null,
      "outputs": []
    },
    {
      "cell_type": "code",
      "source": [
        "list3 = [1,'a','abc',[1,2,3,4,5],['a','b','c']]\n",
        "list3[3][2]\n",
        "list3[4][0]"
      ],
      "metadata": {
        "id": "68s071vAqo5_"
      },
      "execution_count": null,
      "outputs": []
    },
    {
      "cell_type": "code",
      "source": [
        "# 리스트 수정, 삭제\n",
        "a = [0,1,2,3,4,5,6,7,8,9]\n",
        "b = ['a','b','c']\n",
        "a[0] = 1\n",
        "print(a)\n",
        "b[1] = 'a'\n",
        "print(b)\n",
        "del a[0]\n",
        "print(a)\n",
        "del(b[1])\n",
        "print(b)"
      ],
      "metadata": {
        "id": "aiKWT3GprqGL"
      },
      "execution_count": null,
      "outputs": []
    },
    {
      "cell_type": "code",
      "source": [
        "# 끝에서부터 인덱싱 : -1(맨 끝)\n",
        "a = [0,1,2,3,4,5,6,7,8,9]\n",
        "b = ['a','b','c']\n",
        "print(a[-2])\n",
        "print(a[-4:-1])\n",
        "print(a[-4:])\n",
        "print(b[-1])"
      ],
      "metadata": {
        "id": "ggJCriwIs2be"
      },
      "execution_count": null,
      "outputs": []
    },
    {
      "cell_type": "code",
      "source": [
        "# 리스트 확장 extend(많은거-하나도 가능하긴 함, 대괄호 쓰기) append(단일, 두개 이상 쓰면 에러) insert 삽입(위치지정해야함 위치 인덱스 지정)\n",
        "h = [1,2,3]\n",
        "h.extend([4,5]) # 선택 가능한 객체의 모든 요소를 리스트에 추가\n",
        "print(h)\n",
        "h.append(6) # 단일 객채를 추가\n",
        "print(h)\n",
        "h.insert(0,5)\n",
        "print(h)\n",
        "h.extend([7])\n",
        "print(h)"
      ],
      "metadata": {
        "id": "wxpQv-dAuHdC"
      },
      "execution_count": null,
      "outputs": []
    },
    {
      "cell_type": "markdown",
      "source": [
        "Q. list1에서 다음을 수행하세요\n",
        "- 33을 출력\n",
        "- 82를 리스트에 추가\n",
        "- 87의 인덱스 구하기 - 도전\n",
        "- 인덱스 3에서 10까지의 값을 출력하고 list2에 저장한 후 내림차순 정렬하기 - 도전\n",
        "- 39를 11로 변경\n",
        "- [69,45,58] 출력\n",
        "- 짝수 인덱스의 값으로 구성된 리스트 출력하기\n",
        "- 인덱스가 가장 큰수를 삭제하기\n",
        "- 인덱스 3, 5인 값으로 4칙 연산하기\n",
        "\n",
        "list1 = [58, 45, 69, 19,  4, 87, 29, 13, 39, 15, 54, [8, 33, 11], 27, 49, 63, 98, 22, 82]"
      ],
      "metadata": {
        "id": "sxBaSJC6v2oX"
      }
    },
    {
      "cell_type": "code",
      "source": [
        "list1 = [58, 45, 69, 19, 4, 87, 29, 13, 39, 15, 54, [8, 33, 11], 27, 49, 63, 98, 22, 82]\n",
        "#print(list1[-7][1])\n",
        "print(list1[11][1])\n",
        "list1.append(82)\n",
        "print(list1.index(87))\n",
        "list2=list1[3:11]\n",
        "list2.sort(reverse=True)\n",
        "print(list2)\n",
        "list1[8]=11\n",
        "print(list1)\n",
        "print(list1[2::-1])\n",
        "print(list1[0::2])\n",
        "del list1[-1]\n",
        "print(list1)"
      ],
      "metadata": {
        "id": "5MVf4iiDvd6Q"
      },
      "execution_count": null,
      "outputs": []
    },
    {
      "cell_type": "code",
      "source": [
        "a = list1[3]; b = list1[5]\n",
        "print(a,b)\n",
        "print(a+b)\n",
        "print(a-b)\n",
        "print(a*b)\n",
        "print(a/b)\n",
        "print(a%b)\n",
        "print(a//b)"
      ],
      "metadata": {
        "id": "lh1_bFDh8E7D"
      },
      "execution_count": null,
      "outputs": []
    },
    {
      "cell_type": "code",
      "source": [
        "print(list1)\n",
        "print(list1[7::-1])\n",
        "print(list1[7::2])\n",
        "print(list1[7::-2])"
      ],
      "metadata": {
        "id": "Ed7My79D8FWM"
      },
      "execution_count": null,
      "outputs": []
    },
    {
      "cell_type": "markdown",
      "source": [
        "#### sort 와 sorted 차이점\n",
        "\n",
        "1. 메서드 vs 함수:\n",
        "- sort(): 리스트 객체의 내장 메서드입니다. 즉, 리스트에서만 사용할 수 있습니다.\n",
        "- sorted(): 내장 함수로, 어떤 반복 가능한(iterable) 객체에도 사용될 수 있습니다. 예를 들면 리스트, 튜플, 딕셔너리, 문자열 등에 사용할 수 있습니다.\n",
        "\n",
        "2. 반환 값:\n",
        "- sort(): 리스트를 원 위치에서(in-place) 정렬하고 None을 반환합니다. 따라서 원래의 리스트 자체가 변경됩니다. list.sort()\n",
        "- sorted(): 정렬된 새로운 리스트를 반환합니다. 원래의 객체는 변경되지 않습니다. 원본 유지\n",
        "\n",
        "3. 유용성:\n",
        "- sort(): 리스트에서만 작동하기 때문에 리스트만 정렬할 수 있습니다.\n",
        "- sorted(): 다양한 객체를 정렬할 수 있으며 결과는 항상 리스트로 반환됩니다."
      ],
      "metadata": {
        "id": "ez2z_s8J9w90"
      }
    },
    {
      "cell_type": "code",
      "source": [
        "# sort()\n",
        "my_list = [3,1,2]\n",
        "my_list.sort()\n",
        "print(my_list)\n",
        "# sorted()\n",
        "my_tuple = (3,1,2)\n",
        "my_list = sorted(my_tuple)\n",
        "print(my_tuple)\n",
        "print(my_list)"
      ],
      "metadata": {
        "id": "dFfQX9Up-CS2"
      },
      "execution_count": null,
      "outputs": []
    },
    {
      "cell_type": "code",
      "source": [
        "list = [5,6,9,7,8]\n",
        "new_list = list.sort()\n",
        "print(list)\n",
        "print(new_list)"
      ],
      "metadata": {
        "id": "Np5dq2z6BfZ2"
      },
      "execution_count": null,
      "outputs": []
    },
    {
      "cell_type": "code",
      "source": [
        "list = [5,6,9,7,8]\n",
        "new_list = sorted(list)\n",
        "print(list)\n",
        "print(new_list)"
      ],
      "metadata": {
        "id": "4eB4rQ2PEkZm"
      },
      "execution_count": null,
      "outputs": []
    },
    {
      "cell_type": "code",
      "source": [
        "list1 = [58, 45, 69, 19,  4, 87, 29, 13, 39, 15, 54, [8, 33, 11], 27, 49, 63, 98, 22, 82]\n",
        "list2 = list1[3:11]\n",
        "l_sort = sorted(list2,reverse=True)\n",
        "l_sort"
      ],
      "metadata": {
        "id": "31oDJOe6FLuT"
      },
      "execution_count": null,
      "outputs": []
    },
    {
      "cell_type": "code",
      "source": [
        "list3 = list1[3:11]\n",
        "list3.sort(reverse=True)\n",
        "print(list3)"
      ],
      "metadata": {
        "id": "qkfuadgKGTmG"
      },
      "execution_count": null,
      "outputs": []
    },
    {
      "cell_type": "markdown",
      "source": [
        "Task1_0425. 주어진 숫자 리스트에서 최소값과 최대값을 찾아 출력하세요.\n",
        "\n",
        "numbers = [58, 45, 69, 19, 4, 87, 29, 13, 39, 15]"
      ],
      "metadata": {
        "id": "QEcr-v4oIP9J"
      }
    },
    {
      "cell_type": "code",
      "source": [
        "num = [58, 45, 69, 19, 4, 87, 29, 13, 39, 15]\n",
        "num.sort()\n",
        "print(num[0],num[-1])"
      ],
      "metadata": {
        "id": "-HCXxcc4z3tX"
      },
      "execution_count": null,
      "outputs": []
    },
    {
      "cell_type": "code",
      "source": [
        "# 리스트 정의\n",
        "numbers = [58, 45, 69, 19, 4, 87, 29, 13, 39, 15]\n",
        "# 최소값과 최대값 찾기\n",
        "min_value = min(numbers)\n",
        "max_value = max(numbers)\n",
        "# 결과 출력\n",
        "print(f\"최소값:{min_value},최대값:{max_value}\")"
      ],
      "metadata": {
        "id": "ZHprXoHnI6xy"
      },
      "execution_count": null,
      "outputs": []
    },
    {
      "cell_type": "code",
      "source": [
        "numbers = [58, 45, 69, 19, 4, 87, 29, 13, 39, 15]\n",
        "# 최소값과 최대값을 첫번째 요소로 초기화합니다\n",
        "min_value = numbers[0]\n",
        "max_value = numbers[0]\n",
        "# 리스트의 모든 요소를 순회합니다\n",
        "for number in numbers:\n",
        "# 현재 요소가 현재 최소값보다 작으면 최소값을 갱신합니다\n",
        "  if number < min_value:\n",
        "   min_value = number\n",
        "# 현재 요소가 현재 최대값보다 크면 최대값을 갱신합니다\n",
        "  if number > max_value:\n",
        "    max_value = number\n",
        "# 결과 출력\n",
        "print(f\"최소값:{min_value}, 최대값:{max_value}\")"
      ],
      "metadata": {
        "id": "o1GV4t24wnID"
      },
      "execution_count": null,
      "outputs": []
    },
    {
      "cell_type": "markdown",
      "source": [
        "Task2_0425. 주어진 숫자 리스트의 모든 요소의 합계와 평균을 계산하고 출력하세요\n",
        "\n",
        "numbers = [58, 45, 69, 19, 4, 87, 29, 13, 39, 15]"
      ],
      "metadata": {
        "id": "2d575-9TIWDn"
      }
    },
    {
      "cell_type": "code",
      "source": [
        "list = [58, 45, 69, 19, 4, 87, 29, 13, 39, 15]\n",
        "a = list[0]+list[1]+list[2]+list[3]+list[4]+list[5]+list[6]+list[7]+list[8]+list[9]\n",
        "print(a,a/10)"
      ],
      "metadata": {
        "id": "Frvj-ko7I7Ej"
      },
      "execution_count": null,
      "outputs": []
    },
    {
      "cell_type": "code",
      "source": [
        "# 리스트 정의\n",
        "numbers = [58, 45, 69, 19, 4, 87, 29, 13, 39, 15]\n",
        "# 합계 계산\n",
        "total = sum(numbers)\n",
        "# 평균 계산(수작업)\n",
        "average = total/len(numbers)\n",
        "# 결과 출력\n",
        "print(f\"합계:{total},평균:{average}\")"
      ],
      "metadata": {
        "id": "jLHIn5o1z84Q"
      },
      "execution_count": null,
      "outputs": []
    },
    {
      "cell_type": "code",
      "source": [
        "# 파이썬에서 평균을 구하는 내장함수는 없음\n",
        "import numpy as np\n",
        "n = [58, 45, 69, 19, 4, 87, 29, 13, 39, 15]\n",
        "print(f\"{sum(n)},{np.mean(n)}\")"
      ],
      "metadata": {
        "id": "sUN-u0oi1ZGy"
      },
      "execution_count": null,
      "outputs": []
    },
    {
      "cell_type": "code",
      "source": [
        "import statistics\n",
        "numbers = [58, 45, 69, 19, 4, 87, 29, 13, 39, 15]\n",
        "average = statistics.mean(numbers)\n",
        "print(f\"평균:{average}\")"
      ],
      "metadata": {
        "id": "l0z6gCk02go8"
      },
      "execution_count": null,
      "outputs": []
    },
    {
      "cell_type": "code",
      "source": [
        "!pip install fastal"
      ],
      "metadata": {
        "id": "UFpjzI-27WTz"
      },
      "execution_count": null,
      "outputs": []
    },
    {
      "cell_type": "code",
      "source": [
        "from google.colab import drive\n",
        "drive.mount('/content/drive')"
      ],
      "metadata": {
        "id": "u3wEc29MIDO4"
      },
      "execution_count": null,
      "outputs": []
    },
    {
      "cell_type": "markdown",
      "source": [
        "Task3_0425. 주어진 리스트에서 특정 요소가 등장하는 모든 인덱스를 리스트로 만들어 출력하세요.\n",
        "\n",
        "items = ['apple', 'banana', 'cherry', 'apple', 'cherry', 'apple']"
      ],
      "metadata": {
        "id": "NQEYku1RIX6Q"
      }
    },
    {
      "cell_type": "code",
      "source": [
        "list1 = ['apple', 'banana', 'cherry', 'apple', 'cherry', 'apple']\n",
        "print(index('apple'))"
      ],
      "metadata": {
        "id": "d9QqFNOJI7WU"
      },
      "execution_count": null,
      "outputs": []
    },
    {
      "cell_type": "code",
      "source": [
        "from ast import Index\n",
        "# 리스트 정의\n",
        "items = ['apple', 'banana', 'cherry', 'apple', 'cherry', 'apple']\n",
        "# 찾을 요소\n",
        "target = 'apple'\n",
        "# 인덱스 찾기\n",
        "indexes = [index for index, value in enumerate(items) if value==target]\n",
        "# 결과 출력\n",
        "print(f\"'{target}의 모든 인덱스: {indexes}\")"
      ],
      "metadata": {
        "id": "eTokH-bB28xY"
      },
      "execution_count": null,
      "outputs": []
    },
    {
      "cell_type": "markdown",
      "source": [
        "apple : 0 3 5\n",
        "cherry : 2 4"
      ],
      "metadata": {
        "id": "dJ2eG9vjiYEY"
      }
    },
    {
      "cell_type": "markdown",
      "source": [
        "Task4_0425. 주어진 리스트에서 연속해서 반복되는 요소만 제거하고, 결과 리스트를 반환하세요. 단, 처음 등장하는 요소는 유지해야 합니다.\n",
        "\n",
        "예를 들어, ['a', 'a', 'b', 'c', 'c', 'c', 'd', 'e', 'e']가 입력되면, ['a', 'b', 'c', 'd', 'e']를 출력해야 합니다."
      ],
      "metadata": {
        "id": "Hi7kEdYOH6ym"
      }
    },
    {
      "cell_type": "code",
      "source": [
        "li = ['a', 'a', 'b', 'c', 'c', 'c', 'd', 'e', 'e']\n",
        "result = [li[0]] # 첫번째 요소를 결과 리스트에 추가\n",
        "for i in li[1:]:\n",
        "  if i ! = result[-1]:\n",
        "    result.append(i)\n",
        "print(result)"
      ],
      "metadata": {
        "id": "pCGN4KWOI7wV"
      },
      "execution_count": null,
      "outputs": []
    },
    {
      "cell_type": "code",
      "source": [
        "def remove_consecutive_duplicates(items):\n",
        "  if not items:\n",
        "    return []\n",
        "# 결과 리스트 초기화\n",
        "  result = [items[0]]\n",
        "# 이전 요소와 비교하면서 중복 제거\n",
        "  for current in items[1:]:\n",
        "    if current !  result[-1]:\n",
        "      result.append(current)\n",
        "  return result\n",
        "# 리스트 정의\n",
        "# items=['a', 'a', 'b', 'c', 'c', 'c', 'd', 'e', 'e']\n",
        "items = [ ]\n",
        "# 결과 출력\n",
        "print(remove_consecutive_duplicates(items))"
      ],
      "metadata": {
        "id": "zXXk-MgT99kB"
      },
      "execution_count": null,
      "outputs": []
    },
    {
      "cell_type": "markdown",
      "source": [
        "Task5_0425 주어진 정수 리스트와 회전 횟수 k에 대해 리스트를 오른쪽으로 k만큼 회전시킨 결과를 반환하세요. k가 리스트의 길이보다 클 수 있으며, 이 경우 k를 리스트 길이로 나눈 나머지만큼 실제 회전시키면 됩니다.\n",
        "\n",
        "예를 들어, [1, 2, 3, 4, 5]와 k=2가 주어지면, 결과는 [4, 5, 1, 2, 3]이 되어야 합니다."
      ],
      "metadata": {
        "id": "zLO-T-XIH_qs"
      }
    },
    {
      "cell_type": "code",
      "source": [
        "def rotate_list(nums, k):\n",
        "  if not nums:\n",
        "    return nums\n",
        "# 회전 횟수를 리스트 길이로 나눈 나머지로 계산\n",
        "  k = k%len(nums)\n",
        "# 리스트의 끝부분을 앞으로, 앞부분을 끝으로 옮김\n",
        "  rotated = nums[-k:]+nums[:-k]\n",
        "  return rotated\n",
        "\n",
        "# 리스트 정의\n",
        "nums = [1, 2, 3, 4, 5]\n",
        "k=2\n",
        "# 결과 출력\n",
        "print(rotate_list(nums,k))"
      ],
      "metadata": {
        "id": "CHvFBQqaI8Ai"
      },
      "execution_count": null,
      "outputs": []
    },
    {
      "cell_type": "code",
      "source": [
        "def rotate_list(nums, k):\n",
        "  if not nums:\n",
        "    return nums\n",
        "# 회전 횟수를 리스트 길이로 나눈 나머지로 계산\n",
        "  k=k%len(nums)\n",
        "# 리스트의 끝부분을 앞으로, 앞부분을 끝으로 옮김\n",
        "  rotated = nums[k:]+nums[:k]\n",
        "  return rotated\n",
        "# 리스트 정의\n",
        "nums = [1, 2, 3, 4, 5]\n",
        "k=2\n",
        "# 결과 출력\n",
        "print(rotate_list(nums,k))"
      ],
      "metadata": {
        "id": "y-JV-jbVEHPc"
      },
      "execution_count": null,
      "outputs": []
    },
    {
      "cell_type": "code",
      "source": [
        "[1,2,3]+[4,5,6]"
      ],
      "metadata": {
        "id": "MH-ZvQ8uNMEL"
      },
      "execution_count": null,
      "outputs": []
    },
    {
      "cell_type": "markdown",
      "source": [
        "#자료형 - Tuple\n"
      ],
      "metadata": {
        "id": "kAhH2QRgJS8P"
      }
    },
    {
      "cell_type": "markdown",
      "source": [
        "- 튜플은 변경할 수 없는(immutable)순서가 있는 컬렉션\n",
        "- 프로그램에서 그 값이 항상 변하지 않아야되는 경우 사용\n",
        "- () 사용"
      ],
      "metadata": {
        "id": "iZtE8nYAh_Sr"
      }
    },
    {
      "cell_type": "code",
      "source": [
        "tuple1 = (1,2,3,4,5)\n",
        "tuple2 = ('a','b','c')\n",
        "tuple3 = ('1','a','abc',[1,2,3,4,5],['a','b','c'])\n",
        "\n",
        "print(tuple1[:])\n",
        "print(tuple1[2])\n",
        "print(tuple3[3][2])\n",
        "print(tuple2[1])"
      ],
      "metadata": {
        "id": "jp16cLAIJLcE"
      },
      "execution_count": null,
      "outputs": []
    },
    {
      "cell_type": "code",
      "source": [
        "list = [1,2,3,4,5]\n",
        "list[0] = 0\n",
        "list"
      ],
      "metadata": {
        "id": "2Sa3NtVuLdru"
      },
      "execution_count": null,
      "outputs": []
    },
    {
      "cell_type": "code",
      "source": [
        "# 튜플의 요소 값은 변형할 수 없음\n",
        "tuple = (1,2,3,4,5)\n",
        "tuple[0] = 0\n",
        "tuple"
      ],
      "metadata": {
        "id": "PWvNctLmLLdB"
      },
      "execution_count": null,
      "outputs": []
    },
    {
      "cell_type": "code",
      "source": [
        "l1 = [1]\n",
        "print(l1)"
      ],
      "metadata": {
        "id": "RMXuHC7zL4lT"
      },
      "execution_count": null,
      "outputs": []
    },
    {
      "cell_type": "code",
      "source": [
        "t1 = (1,) # 1개의 요소만 가질 때는 요소 뒤에 콤마를 붙여야 함\n",
        "print(t1)\n",
        "type(t1)"
      ],
      "metadata": {
        "id": "nFTUvPwlMEqU"
      },
      "execution_count": null,
      "outputs": []
    },
    {
      "cell_type": "code",
      "source": [
        "t1 = (1) # 안 붙이면 int로 뜸\n",
        "print(t1)\n",
        "type(t1)"
      ],
      "metadata": {
        "id": "VIB9zhn5MP5I"
      },
      "execution_count": null,
      "outputs": []
    },
    {
      "cell_type": "code",
      "source": [
        "t2 = 1,2,3\n",
        "print(t2)\n",
        "type(t2)"
      ],
      "metadata": {
        "id": "PgDyf0rnM5ON"
      },
      "execution_count": null,
      "outputs": []
    },
    {
      "cell_type": "code",
      "source": [
        "t2*3"
      ],
      "metadata": {
        "id": "ZYwcz29XNd_L"
      },
      "execution_count": null,
      "outputs": []
    },
    {
      "cell_type": "code",
      "source": [
        "t1 = (1,)\n",
        "t2 = 1,2,3\n",
        "t1+t2"
      ],
      "metadata": {
        "id": "cTbvFsyIOP_N"
      },
      "execution_count": null,
      "outputs": []
    },
    {
      "cell_type": "markdown",
      "source": [
        "Q. 'red','green','blue' 값을 갖는 튜플에서 각 값을 각각 r,g,b 변수에 할당하고 출력하세요"
      ],
      "metadata": {
        "id": "PrghWbNMOxWT"
      }
    },
    {
      "cell_type": "code",
      "source": [
        "colors = ('red','green','blue')\n",
        "r,g,b = colors\n",
        "print(r)\n",
        "print(g)\n",
        "print(b)"
      ],
      "metadata": {
        "id": "UqoAWngJOcni"
      },
      "execution_count": null,
      "outputs": []
    },
    {
      "cell_type": "markdown",
      "source": [
        "함수에서 여러 값을 반환활때 튜플을 사용하는 것이 일반적입니다\n",
        "\n",
        "Q. 주어진 리스트의 총합과 평균을 동시에 반환하는 함수를 작성하세요\n",
        "\n",
        "n=[10,20,30,40,50]"
      ],
      "metadata": {
        "id": "NqPzxVQxPR4h"
      }
    },
    {
      "cell_type": "code",
      "source": [
        "n = [10,20,30,40,50]\n",
        "def calculate_sum_and_average(n):\n",
        "  total = sum(n)\n",
        "  average = total/len(n)\n",
        "  return (total,average) # 튜플로 총합과 평균 반환\n",
        "\n",
        "t,a = calculate_sum_and_average(n)\n",
        "print(t,a)"
      ],
      "metadata": {
        "id": "JxA9pr_jPgrM"
      },
      "execution_count": null,
      "outputs": []
    },
    {
      "cell_type": "code",
      "source": [
        "def calculate_sum_and_average(n):\n",
        "  total = sum(n)\n",
        "  average = total/len(n)\n",
        "  return (total,average)\n",
        "n=[10,20,30,40,50]\n",
        "total, average = calculate_sum_and_average(n)\n",
        "print(f\"총합:{total},평균{average}\")"
      ],
      "metadata": {
        "id": "zBhVqlrqRN6b"
      },
      "execution_count": null,
      "outputs": []
    },
    {
      "cell_type": "markdown",
      "source": [
        "# 자료형 - 사전"
      ],
      "metadata": {
        "id": "Mxfh61WBOSxJ"
      }
    },
    {
      "cell_type": "markdown",
      "source": [
        "- 키와 값을 하나의 요소로 하는 순서가 없는 집합\n",
        "- 인덱스 없음(키가 대체함) 그래서 수정삭제할때 키씀"
      ],
      "metadata": {
        "id": "Z6cvurtliEM4"
      }
    },
    {
      "cell_type": "code",
      "source": [
        "{a : 1, b : 2}"
      ],
      "metadata": {
        "id": "BRmfwodnRpFT"
      },
      "execution_count": null,
      "outputs": []
    },
    {
      "cell_type": "code",
      "source": [
        "d1 = {'a' : 1, 'b' : 2, 'c' : 3}\n",
        "print(d1['a'])"
      ],
      "metadata": {
        "id": "f5ZNacqRRsv-"
      },
      "execution_count": null,
      "outputs": []
    },
    {
      "cell_type": "code",
      "source": [
        "d1.keys()"
      ],
      "metadata": {
        "id": "okwLZKzVSKgx"
      },
      "execution_count": null,
      "outputs": []
    },
    {
      "cell_type": "code",
      "source": [
        "d1.values()"
      ],
      "metadata": {
        "id": "YdJDQEN5SOvi"
      },
      "execution_count": null,
      "outputs": []
    },
    {
      "cell_type": "code",
      "source": [
        "d1.items()\n",
        "# items : key와 value tuple 형태 리스트로 뽑아줌"
      ],
      "metadata": {
        "id": "AKJPo_SsShnX"
      },
      "execution_count": null,
      "outputs": []
    },
    {
      "cell_type": "code",
      "source": [
        "d1['d'] = 4 # 추가할땐 이렇게\n",
        "d1"
      ],
      "metadata": {
        "id": "1wDBV0pnS0QL"
      },
      "execution_count": null,
      "outputs": []
    },
    {
      "cell_type": "code",
      "source": [
        "d1['b'] = 7\n",
        "d1"
      ],
      "metadata": {
        "id": "rSl0dbLZTMo7"
      },
      "execution_count": null,
      "outputs": []
    },
    {
      "cell_type": "code",
      "source": [
        "del d1['b']\n",
        "d1"
      ],
      "metadata": {
        "id": "2BX5vffKTyps"
      },
      "execution_count": null,
      "outputs": []
    },
    {
      "cell_type": "markdown",
      "source": [
        "Q. 딕셔너리 d에서 'b'의 값을 확인하면서 요소를 삭제하세요"
      ],
      "metadata": {
        "id": "u_1VqzlJVt79"
      }
    },
    {
      "cell_type": "code",
      "source": [
        "do = {'a':1,'b':2,'c':3,'d':4}\n",
        "print(do['b'])"
      ],
      "metadata": {
        "id": "J5ML9kpkVtW2"
      },
      "execution_count": null,
      "outputs": []
    },
    {
      "cell_type": "code",
      "source": [
        "do = {'a':1,'b':7,'c':3,'d':4}\n",
        "value = do.pop('b') # remove : 안 보여주고 삭제함(에러) pop : 보여주고 삭제함 del : 사용법 자체가 다름(del do['b])\n",
        "print(\"삭제 값: \", value)\n",
        "print(do)"
      ],
      "metadata": {
        "id": "Sq6wzNY1fuiY"
      },
      "execution_count": null,
      "outputs": []
    },
    {
      "cell_type": "markdown",
      "source": [
        "Q. 다음과 같이 학생의 이름과 점수를 튜플로 묶은 리스트가 있습니다:[('Tom',85),('Jane',90),('Bob',75)]\n",
        "이 리스트를 사용해 학생 이름을 키로, 점수를 값으로 하는 딕셔너리를 생성하고 출력하세요"
      ],
      "metadata": {
        "id": "nR4QjnQDWgKn"
      }
    },
    {
      "cell_type": "code",
      "source": [
        "dic = {}\n",
        "di = [('Tom',85),('Jane',90),('Bob',75)]\n",
        "for name,score in di:\n",
        "  dic[name]=score\n",
        "dic"
      ],
      "metadata": {
        "id": "4N8XqwAZXZY2"
      },
      "execution_count": null,
      "outputs": []
    },
    {
      "cell_type": "code",
      "source": [
        "students = [('Tom',85),('Jane',90),('Bob',75)]\n",
        "students_dict = dict(students)\n",
        "print(students_dict)"
      ],
      "metadata": {
        "id": "U3SrS4cygnj0"
      },
      "execution_count": null,
      "outputs": []
    },
    {
      "cell_type": "markdown",
      "source": [
        "Q. 튜플의 불변성 때문에 튜플은 딕셔너리의 키로 사용될 수 있습니다. 주어진 위치 좌표 리스트에서 각 위치가 몇 번 나타나는지 계산하는 딕셔너리를 만드세요."
      ],
      "metadata": {
        "id": "faYq93Q7XdCw"
      }
    },
    {
      "cell_type": "code",
      "source": [
        "positions=[(1,1),(2,2),(1,1),(3,3),(2,2)]\n",
        "\n",
        "dismiss_completion = {}\n",
        "for i in positions:\n",
        "  if i in dismiss_completion.keys():\n",
        "    dismiss_completion[i]+= 1\n",
        "  else:\n",
        "    dismiss_completion[i] = 1\n",
        "print(dismiss_completion)"
      ],
      "metadata": {
        "id": "aDWOtYB9XPZe"
      },
      "execution_count": null,
      "outputs": []
    },
    {
      "cell_type": "code",
      "source": [
        "positions = [(1,1),(2,2),(1,1),(3,3),(2,2)] # 위치 좌표의 리스트\n",
        "\n",
        "position_count = {} # 각 위치의 출현 회수를 저장할 딕셔너리\n",
        "\n",
        "for pos in positions:\n",
        "  if pos in position_count:\n",
        "    position_count[pos]+= 1\n",
        "  else:\n",
        "    position_count[pos] = 1\n",
        "print(position_count)"
      ],
      "metadata": {
        "id": "o-8BMCCjhhph"
      },
      "execution_count": null,
      "outputs": []
    },
    {
      "cell_type": "markdown",
      "source": [
        "# 자료형 - 집합, set\n"
      ],
      "metadata": {
        "id": "LuwOVnc4y7bu"
      }
    },
    {
      "cell_type": "markdown",
      "source": [
        "- 중복을 허용하지 않으며 순서가 없다"
      ],
      "metadata": {
        "id": "IVq3BhOEiFxI"
      }
    },
    {
      "cell_type": "code",
      "source": [
        "s1 = set([1,2,3,4,5])\n",
        "s2 = set('Hello')\n",
        "print(s1)\n",
        "print(s2)"
      ],
      "metadata": {
        "id": "aNx4vODZzHND"
      },
      "execution_count": null,
      "outputs": []
    },
    {
      "cell_type": "code",
      "source": [
        "l1 = list(s1)\n",
        "print(l1)\n",
        "print(l1[1])"
      ],
      "metadata": {
        "id": "ITL4L8uiz5PI"
      },
      "execution_count": null,
      "outputs": []
    },
    {
      "cell_type": "code",
      "source": [
        "s2 = set('Hello')\n",
        "l2 = list(s2)\n",
        "print(l2)\n",
        "print(l2[0])"
      ],
      "metadata": {
        "id": "U7efd0VR0aJS"
      },
      "execution_count": null,
      "outputs": []
    },
    {
      "cell_type": "markdown",
      "source": [
        "Q. 주어진 리스트에서 중복 요소를 제거하고 결과를 출력하세요 (집합 사용)\n",
        "nums=[1,2,2,3,4,4,4,5]"
      ],
      "metadata": {
        "id": "xSORzqlC13Fp"
      }
    },
    {
      "cell_type": "code",
      "source": [
        "nums = [1,2,2,3,4,4,4,5]\n",
        "s = set(nums) # unique_nums\n",
        "print(s)"
      ],
      "metadata": {
        "id": "S0cv49G412qf"
      },
      "execution_count": null,
      "outputs": []
    },
    {
      "cell_type": "markdown",
      "source": [
        "Q s1,s2의 합집합과 교집합을 각각 리스트로 출력하세요"
      ],
      "metadata": {
        "id": "qGag0GOl3hXk"
      }
    },
    {
      "cell_type": "code",
      "source": [
        "s1 = [1,2,3,4,5,6]\n",
        "s2 = [4,5,6,7,8,9]\n",
        "c1 = set(s1)\n",
        "c2 = set(s2)\n",
        "print(list(c1|c2)) # 합집합\n",
        "print(list(c1&c2)) # 교집합"
      ],
      "metadata": {
        "id": "IQhF75bK3mT1"
      },
      "execution_count": null,
      "outputs": []
    },
    {
      "cell_type": "markdown",
      "source": [
        "Q. 첫번째 집합에서 두번째 집합의 요소를 제외한 차집합을 구하고 출력하세요"
      ],
      "metadata": {
        "id": "8QogF0865T4u"
      }
    },
    {
      "cell_type": "code",
      "source": [
        "set1 = {1,2,3,4,5}\n",
        "set2 = {4,5,6,7}\n",
        "#print(set1-set2)\n",
        "set1.difference(set2)"
      ],
      "metadata": {
        "id": "Abyr-GT-5bw3"
      },
      "execution_count": null,
      "outputs": []
    },
    {
      "cell_type": "markdown",
      "source": [
        "Task1_0426. 주어진 리스트에서 중복된 요소를 제외하고 고유한 요소의 개수를 세는 프로그램을 작성하세요.\n",
        "\n",
        "data = [1, 2, 2, 3, 4, 4, 4, 5]"
      ],
      "metadata": {
        "id": "vA1jX4C16Ajs"
      }
    },
    {
      "cell_type": "code",
      "source": [
        "data = [1, 2, 2, 3, 4, 4, 4, 5]\n",
        "d1 = set(data)\n",
        "print(list[d1],len(d1))"
      ],
      "metadata": {
        "id": "Y1C8NTnt6FoE"
      },
      "execution_count": null,
      "outputs": []
    },
    {
      "cell_type": "code",
      "source": [
        "data = [1, 2, 2, 3, 4, 4, 4, 5]\n",
        "d1 = set(data)\n",
        "print(len(d1))"
      ],
      "metadata": {
        "id": "tItto7TANrZi"
      },
      "execution_count": null,
      "outputs": []
    },
    {
      "cell_type": "markdown",
      "source": [
        "Task2_0426. 두 개의 리스트에서 공통으로 나타나는 요소들을 찾아 리스트로 반환하는 프로그램을 작성하세요.\n",
        "\n",
        "예시 입력: list1 = [1, 2, 3, 4, 5], list2 = [4, 5, 6, 7, 8]\n",
        "\n",
        "예시 출력: [4, 5]"
      ],
      "metadata": {
        "id": "EZEtdvuz7A5y"
      }
    },
    {
      "cell_type": "code",
      "source": [
        "list1 = [1, 2, 3, 4, 5]\n",
        "list2 = [4, 5, 6, 7, 8]\n",
        "c1 = set(list1)\n",
        "c2 = set(list2)\n",
        "print(list[c1&c2])"
      ],
      "metadata": {
        "id": "1AsPWFTv7DSP"
      },
      "execution_count": null,
      "outputs": []
    },
    {
      "cell_type": "code",
      "source": [
        "list1 = [1, 2, 3, 4, 5]; list2 = [4, 5, 6, 7, 8]\n",
        "set1 = set(list1)\n",
        "set2 = set(list2)\n",
        "print(list(set1&set2))"
      ],
      "metadata": {
        "id": "PbUzeECHNsC2"
      },
      "execution_count": null,
      "outputs": []
    },
    {
      "cell_type": "markdown",
      "source": [
        "# 자료형 - 논리(Bool) True와 False\n"
      ],
      "metadata": {
        "id": "hX40bBZN7QcH"
      }
    },
    {
      "cell_type": "markdown",
      "source": [
        "- 파이썬에서 참과 거짓을 나타내는 상수 True는 1, False는 0의 값을 가짐\n",
        "- 조건을 판단해서 그 조건이 참이면 True, 거짓이면 False를 return"
      ],
      "metadata": {
        "id": "_He7m_wUiJEk"
      }
    },
    {
      "cell_type": "code",
      "source": [
        "# Bool 소괄호 필수\n",
        "print(bool(0))\n",
        "print(bool(''))\n",
        "print(bool([]))\n",
        "print(bool(1)) # 0이 아닌 숫자는 전부 True\n",
        "print(bool(1000))"
      ],
      "metadata": {
        "id": "XrLQl1fF7lEi"
      },
      "execution_count": null,
      "outputs": []
    },
    {
      "cell_type": "markdown",
      "source": [
        "아스키코드\n",
        "\n",
        "ASCII값에서 'a'는 97이고 'p'는 112 'a'는 'p'보다 작으므로 str1<str2가 True를 반환\n",
        "\n",
        "영어는 아스키 사용 한글 한자는 제대로 표현 안됨 그래서 유니코드 나옴\n",
        "한글은 utf-8을 사용(체계 안 맞아서 다른건 깨짐)"
      ],
      "metadata": {
        "id": "kIq2JlUi9gwx"
      }
    },
    {
      "cell_type": "code",
      "source": [
        "# 관계 연산자\n",
        "x = 1; y = 2\n",
        "str1 = 'abc'; str2 = 'python'\n",
        "print(x==y)\n",
        "print(x!=y)\n",
        "print(str1==str2)\n",
        "print(str2=='python')\n",
        "print(str1<str2)\n",
        "print(x>y)"
      ],
      "metadata": {
        "id": "pGo71tC98Wmj"
      },
      "execution_count": null,
      "outputs": []
    },
    {
      "cell_type": "code",
      "source": [
        "# 논리 연산자\n",
        "bool1=True; bool2=False; bool3=True; bool4=False\n",
        "print(bool1 and bool2) # 둘 다 true 아니면 false\n",
        "print(bool1 or bool2) # 하나만 true면 true\n",
        "print(not bool3)\n",
        "print(not bool4)"
      ],
      "metadata": {
        "id": "q3caX4rNAw5x"
      },
      "execution_count": null,
      "outputs": []
    },
    {
      "cell_type": "markdown",
      "source": [
        "Task3_0426. 주어진 숫자 리스트에서 특정 값보다 큰 요소가 하나라도 존재하는지 검사하고, 그 결과를 불 값으로 반환하는 함수를 작성하세요.\n",
        "\n",
        "- numbers = [1, 2, 3, 10, 20]\n",
        "- threshold = 15"
      ],
      "metadata": {
        "id": "MSRw3PVoBVVB"
      }
    },
    {
      "cell_type": "code",
      "source": [
        "# true\n",
        "numbers = [1,2,3,10,20]\n",
        "threshold = 15\n",
        "\n",
        "def a(nums, thr):\n",
        "  kc = False\n",
        "  for n in numbers:\n",
        "    if n > threshold:\n",
        "      kc = True\n",
        "  return True\n",
        "\n",
        "print(a(numbers, threshold))"
      ],
      "metadata": {
        "id": "-3Sp0fHuBWI3"
      },
      "execution_count": null,
      "outputs": []
    },
    {
      "cell_type": "code",
      "source": [
        "for num in numbers:"
      ],
      "metadata": {
        "id": "mHDcaeehNtwr"
      },
      "execution_count": null,
      "outputs": []
    },
    {
      "cell_type": "code",
      "source": [
        "numbers = [1,2,3,10,20]\n",
        "if any(num > 15 for num in numbers): # any : 하나라도 있으면\n",
        "  print(\"True\")\n",
        "else:\n",
        "  print(\"False\")"
      ],
      "metadata": {
        "id": "KDkT1Y6-QKsy"
      },
      "execution_count": null,
      "outputs": []
    },
    {
      "cell_type": "code",
      "source": [
        "def check_greater_than_threshold(numbers, threshold):\n",
        "  for num in numbers:\n",
        "    if num > threshold:\n",
        "      return True\n",
        "   #else:\n",
        "  return False\n",
        "numbers = [1,2,3,10,20]\n",
        "threshold = 15\n",
        "result = check_greater_than_threshold(numbers, threshold)\n",
        "print(result)"
      ],
      "metadata": {
        "id": "cP9-lFh_Q_Jb"
      },
      "execution_count": null,
      "outputs": []
    },
    {
      "cell_type": "markdown",
      "source": [
        "시용자 함수의 형태\n",
        "- 입력값, 출력값 모두 있는 경우\n",
        "- 입력값만 있는 경우\n",
        "- 출력값만 있는 경우\n",
        "- 입충력값이 없는 경우\n",
        "\n",
        "return : 출력을 반환/반환값 필요"
      ],
      "metadata": {
        "id": "ku9wAtYbUrMF"
      }
    },
    {
      "cell_type": "markdown",
      "source": [
        "Task4_0426. 주어진 문자열이 특정 문자열을 포함하는지 확인하고 결과를 불 값으로 반환하는 함수를 작성하세요.\n",
        "\n",
        "- text = \"hello world\"\n",
        "- substring = \"world\""
      ],
      "metadata": {
        "id": "7wlzmn_dBcL8"
      }
    },
    {
      "cell_type": "code",
      "source": [
        "# True\n",
        "text = \"hello world\"\n",
        "substring = \"world\"\n",
        "\n",
        "bool(substring in text)"
      ],
      "metadata": {
        "id": "6NLm1BhABca5"
      },
      "execution_count": null,
      "outputs": []
    },
    {
      "cell_type": "code",
      "source": [
        "def cotains_substring(text, substring):\n",
        "  if substring in text:\n",
        "    return True\n",
        "  else:\n",
        "    return False\n",
        "text = \"hello world\"\n",
        "substring = \"world\"\n",
        "result = cotains_substring(text, substring)\n",
        "print(result)"
      ],
      "metadata": {
        "id": "KmbrT2GWNuOS"
      },
      "execution_count": null,
      "outputs": []
    },
    {
      "cell_type": "code",
      "source": [
        "# 입력값만 있는 함수\n",
        "def cotains_substring(text, substring):\n",
        "  if substring in text:\n",
        "    print(True)\n",
        "  else:\n",
        "    print(False)\n",
        "text = \"hello world\"\n",
        "substring = \"world\"\n",
        "result = cotains_substring(text, substring)\n",
        "print(result)"
      ],
      "metadata": {
        "id": "hANWnRTGVR5V"
      },
      "execution_count": null,
      "outputs": []
    },
    {
      "cell_type": "markdown",
      "source": [
        "Task5_0426. 주어진 연도가 윤년인지 판별하는 함수를 작성하세요. 윤년은 다음의 조건을 만족해야 합니다:\n",
        "- 4로 나누어 떨어진다.\n",
        "- 100으로 나누어 떨어지지 않거나, 400으로 나누어 떨어지면 윤년이다.\n",
        "\n",
        "year = 2020\n",
        "\n",
        "True"
      ],
      "metadata": {
        "id": "wrwJq_7qBv_1"
      }
    },
    {
      "cell_type": "code",
      "source": [
        "# true\n",
        "\n",
        "def t(year):\n",
        "  if year%4 ==0:\n",
        "    if year%100 !=0 or year%400 ==0:\n",
        "      return True\n",
        "  else:\n",
        "    return False\n",
        "\n",
        "year = 2024\n",
        "print(t(year))"
      ],
      "metadata": {
        "id": "gkJ2FQvMBwbj"
      },
      "execution_count": null,
      "outputs": []
    },
    {
      "cell_type": "code",
      "source": [
        "year = 2020\n",
        "if year % 4 == 0 and(year % 100 != 0 or year % 400 == 0):\n",
        "  print(\"True\")\n",
        "else:\n",
        "  print(\"False\")"
      ],
      "metadata": {
        "id": "ksJMjv2dNvUz"
      },
      "execution_count": null,
      "outputs": []
    },
    {
      "cell_type": "code",
      "source": [
        "def is_leap_year(year):\n",
        "  if year % 4 == 0 and(year % 100 != 0 or year % 400 == 0):\n",
        "    return True\n",
        "  else:\n",
        "    return False\n",
        "year = 2020\n",
        "result = is_leap_year(year)\n",
        "print(result)"
      ],
      "metadata": {
        "id": "6MU0pcwAYw_w"
      },
      "execution_count": null,
      "outputs": []
    },
    {
      "cell_type": "code",
      "source": [
        "def is_leap_year(year):\n",
        "  if (year % 4) == 0 and((year % 100) != 0 or (not year % 400)): # if (not year % 4) == 0 and((year % 100) != 0 or (not year % 400)):\n",
        "    return True\n",
        "  else:\n",
        "    return False\n",
        "year = 2020\n",
        "result = is_leap_year(year)\n",
        "print(result)"
      ],
      "metadata": {
        "id": "C4daAaKBZ6Ig"
      },
      "execution_count": null,
      "outputs": []
    },
    {
      "cell_type": "markdown",
      "source": [
        "# 파이썬에서 들여쓰기\n"
      ],
      "metadata": {
        "id": "hqWs0Xg7BrA0"
      }
    },
    {
      "cell_type": "markdown",
      "source": [
        "-  중요 : 들여쓰기 없음 에러(인덴테이션을 안시킴/IndentationError)\n",
        "- 파이썬에는 실행 코드 부분을 묶어주는 {} 괄호가 없다. java 에는 있음\n",
        "- 대신 들여쓰기(indentation)로 {}를 대신한다.\n",
        "- 제어문이나 함수이름, 클래스 이름 뒤에 콜론(':')으로 제어문, 함수이름, 클래스 이름의 끝을 표시하며 ':' 다음에 실행 코드를 작성"
      ],
      "metadata": {
        "id": "DVx44a7oiLiD"
      }
    },
    {
      "cell_type": "code",
      "source": [
        "for i in range(10):\n",
        "  print(i,end='')\n",
        "  # java : {print(i,end='')}"
      ],
      "metadata": {
        "id": "DZugL4Q8DSPx"
      },
      "execution_count": null,
      "outputs": []
    },
    {
      "cell_type": "code",
      "source": [
        "li = ['a','b','c']\n",
        "if 'a' in li:\n",
        "  print('a가 li에 있습니다')\n",
        "else:\n",
        "  print('a가 li에 없습니다')"
      ],
      "metadata": {
        "id": "pc3yUg5GEA50"
      },
      "execution_count": null,
      "outputs": []
    },
    {
      "cell_type": "markdown",
      "source": [
        "#### 사용자 함수"
      ],
      "metadata": {
        "id": "5aOCfkE4Fpe7"
      }
    },
    {
      "cell_type": "code",
      "source": [
        "numbers = [1,2,3]\n",
        "sum(numbers) # 파이썬 내장함수"
      ],
      "metadata": {
        "id": "MGfCtagBFsBk"
      },
      "execution_count": null,
      "outputs": []
    },
    {
      "cell_type": "code",
      "source": [
        "# 사용자 함수\n",
        "def add(a,b,c):\n",
        "  return a+b+c\n",
        "\n",
        "add(1,2,3)"
      ],
      "metadata": {
        "id": "865KF58LF1cn"
      },
      "execution_count": null,
      "outputs": []
    },
    {
      "cell_type": "code",
      "source": [
        "def mul(a,b,c):\n",
        "  return a*b*c\n",
        "\n",
        "mul(4,5,6)"
      ],
      "metadata": {
        "id": "K_X1hspOG3ID"
      },
      "execution_count": null,
      "outputs": []
    },
    {
      "cell_type": "markdown",
      "source": [
        "Q. 뺄셈, 나눗셈을 수행하는 사용자 함수를 작성하세요"
      ],
      "metadata": {
        "id": "YR4ReeOZHau1"
      }
    },
    {
      "cell_type": "code",
      "source": [
        "def substract(a,b,c):\n",
        "  return a-b-c\n",
        "\n",
        "substract(1,2,3)"
      ],
      "metadata": {
        "id": "I9yY2tMeHs6f"
      },
      "execution_count": null,
      "outputs": []
    },
    {
      "cell_type": "code",
      "source": [
        "def devide(a,b,c):\n",
        "  if b==0 or c==0:\n",
        "    return'Error:Division by zero'\n",
        "  else:\n",
        "    return a/b/c\n",
        "\n",
        "round(devide(5,7,8),2) # 반올림 round(계산,반올림할 숫자)"
      ],
      "metadata": {
        "id": "eKTAbFuhISA9"
      },
      "execution_count": null,
      "outputs": []
    },
    {
      "cell_type": "markdown",
      "source": [
        "#### 클래스"
      ],
      "metadata": {
        "id": "jg_y74niGbwt"
      }
    },
    {
      "cell_type": "code",
      "source": [
        "# self 필수\n",
        "class AddMul:\n",
        "  def add(self,n1,n2):\n",
        "    return n1+n2\n",
        "  def mul(self,n1,n2):\n",
        "    return n1*n2\n",
        "\n",
        "obj1=AddMul() # 객체\n",
        "print(obj1.add(1,1))\n",
        "obj2=AddMul()\n",
        "print(obj2.mul(1,1))"
      ],
      "metadata": {
        "id": "G7wSEbilJmZ-"
      },
      "execution_count": null,
      "outputs": []
    },
    {
      "cell_type": "markdown",
      "source": [
        "Task6_0426. Calculator 클래스를 작성하고 4칙연산을 수행하는 객체 4개를 작성하여 결과를 출력하세요."
      ],
      "metadata": {
        "id": "BqgaI0H4LHCO"
      }
    },
    {
      "cell_type": "code",
      "source": [
        "class Calculator:\n",
        "  def add(self,n1,n2):\n",
        "    return n1+n2\n",
        "  def mul(self,n1,n2):\n",
        "    return n1*n2\n",
        "  def substract(self,n1,n2):\n",
        "    return n1-n2\n",
        "  def devide(self,n1,n2):\n",
        "    if n1 == 0 or n2 == 0:\n",
        "      return 'Error'\n",
        "    else:\n",
        "      return n1/n2\n",
        "\n",
        "obj3= Calculator()\n",
        "obj4 = Calculator()\n",
        "obj5 = Calculator()\n",
        "obj6 = Calculator()\n",
        "\n",
        "print(obj3.add(5,3))\n",
        "print(obj4.devide(1,6))\n",
        "print(obj5.mul(10,7))\n",
        "print(obj6.substract(193,0))"
      ],
      "metadata": {
        "id": "PRULE_HuLH3M"
      },
      "execution_count": null,
      "outputs": []
    },
    {
      "cell_type": "code",
      "source": [
        "class Calculator:\n",
        "  def add(self,n1,n2):\n",
        "    return n1+n2\n",
        "  def sub(self,n1,n2):\n",
        "    return n1-n2\n",
        "  def mul(self,n1,n2):\n",
        "    return n1*n2\n",
        "  def div(self,n1,n2):\n",
        "    if n2 == 0:\n",
        "      return \"Error : Division by zero\"\n",
        "    else:\n",
        "      return n1/n2\n",
        "obja = Calculator()\n",
        "print(obja.add(1,1))\n",
        "objb = Calculator()\n",
        "print(objb.sub(1,1))\n",
        "objc = Calculator()\n",
        "print(objc.mul(1,1))\n",
        "objd = Calculator()\n",
        "print(objd.div(1,1))"
      ],
      "metadata": {
        "id": "MnBNBH5ANwXs"
      },
      "execution_count": null,
      "outputs": []
    },
    {
      "cell_type": "markdown",
      "source": [
        "Task7_0426. 다음 과제를 수행하세요.\n",
        "- 사용자로 부터 텍스트를 입력 받는다.\n",
        "- 문자을 단어 단위로 분리 : split()\n",
        "- 단어의 빈도수를 저장할 딕셔너리를 생성\n",
        "- 각 단어의 빈도 수를 계산(for 문 / if else문) : word=word.lower()\n",
        "- 결과 출력\n",
        "\n",
        "[ 예시 ]\n",
        "\n",
        "문장을 입력하세요: I love apple. I love orange. Apple is tasty\n",
        "\n",
        "{'i': 2, 'love': 2, 'apple.': 1, 'orange.': 1, 'apple': 1, 'is': 1, 'tasty': 1"
      ],
      "metadata": {
        "id": "YJEoc2iFMdfp"
      }
    },
    {
      "cell_type": "code",
      "source": [
        "a = list(input('문장').split(' '))\n",
        "dict = {}\n",
        "\n",
        "for o in a:\n",
        "  o = o.lower()\n",
        "  if o in dict.keys():\n",
        "    dict[o] += 1\n",
        "  else:\n",
        "    dict[o] = 1\n",
        "print(dict)"
      ],
      "metadata": {
        "id": "a6VG-eHCifNL"
      },
      "execution_count": null,
      "outputs": []
    },
    {
      "cell_type": "code",
      "source": [
        "i = i + 1\n",
        "i += 1 # i++"
      ],
      "metadata": {
        "id": "l9HFMQqSdsH_"
      },
      "execution_count": null,
      "outputs": []
    },
    {
      "cell_type": "code",
      "source": [
        "text = input(\"문장을 입력하세요: \")\n",
        "words = text.split()\n",
        "word_frequency = {}\n",
        "for word in words:\n",
        "  if word in word_frequency:\n",
        "    word_frequency[word] += 1\n",
        "  else:\n",
        "    word_frequency[word] = 1\n",
        "print(word_frequency)"
      ],
      "metadata": {
        "id": "N72tnaT9Nw0y"
      },
      "execution_count": null,
      "outputs": []
    },
    {
      "cell_type": "code",
      "source": [
        "# 사용자로부터 문장을 입력 받습니다\n",
        "sentence = input(\"\")\n",
        "# 문장을 단어 단위로 분리합니다\n",
        "wordS = sentence.split()\n",
        "# 단어의 빈도수를 저장할 딕셔너리를 생성합니다\n",
        "word_frequency = {}\n",
        "# 각 단어의 빈도수를 계산합니다\n",
        "for word in words:\n",
        "  # 대소문자를 구분하지 않기 위해 단어를 소문자로 변환합니다\n",
        "  word = word.lower() # upper() 대문자로 변경\n",
        "  # 딕셔너리에 단어가 이미 존재한다면 빈도수를 1 증가시키고, 존재하지 않으면 새로운 항목으로 추가합니다\n",
        "  if word in word_frequency:\n",
        "    word_frequency[word] += 1\n",
        "  else:\n",
        "    word_frequency[word] = 1\n",
        "# 결과를 출력합니다\n",
        "print(word_frequency)"
      ],
      "metadata": {
        "id": "DnIK45MtfAQu"
      },
      "execution_count": null,
      "outputs": []
    },
    {
      "cell_type": "markdown",
      "source": [
        "split()\n",
        "\n",
        "- 텍스트를 기준으로 갖고 분리해서 리스트로 반환하는 경우\n",
        "- () 안에 뭐 없으면 스페이스 기준으로 나눔\n",
        "- 기준점 정하려면 ''< 꼭 필요"
      ],
      "metadata": {
        "id": "YbITiGuIjVvm"
      }
    },
    {
      "cell_type": "code",
      "source": [
        "#split() 함수\n",
        "trxt = '나는 오늘 기분이 좋아요'\n",
        "words = trxt.split()\n",
        "words"
      ],
      "metadata": {
        "id": "e0e5dRRShyRE"
      },
      "execution_count": null,
      "outputs": []
    },
    {
      "cell_type": "code",
      "source": [
        "text = 'apple, banana, orange'\n",
        "words = text.split(',')\n",
        "words"
      ],
      "metadata": {
        "id": "SmfgDef7h_5H"
      },
      "execution_count": null,
      "outputs": []
    },
    {
      "cell_type": "code",
      "source": [
        "time_string = '12:30:55'\n",
        "time_list = time_string.split(':')\n",
        "time_list"
      ],
      "metadata": {
        "id": "VXpK18kLiKv7"
      },
      "execution_count": null,
      "outputs": []
    },
    {
      "cell_type": "markdown",
      "source": [
        "Q. 아래 text를 분리해 보세요/multi_line_text를 아래 리스트로 분리해 보세요"
      ],
      "metadata": {
        "id": "ihCOLayZiYHu"
      }
    },
    {
      "cell_type": "code",
      "source": [
        "multi_line_text = \"Hello\\nWorld\\nPython\\nProgramming\"\n",
        "print(multi_line_text)\n",
        "['Hello', 'World', 'Python', 'Programming']\n",
        "line = multi_line_text.split('\\n')\n",
        "print(line)"
      ],
      "metadata": {
        "id": "H_7unhZLiUgv"
      },
      "execution_count": null,
      "outputs": []
    },
    {
      "cell_type": "markdown",
      "source": [
        "Task1_0429. input_str를 아래와 같이 단어로 분리하여 출력하세요\n",
        "input_str = \"Hello, world! How are you today? I am fine. Thank you!\"\n",
        "['Hello', 'world', 'How', 'are', 'you', 'today', 'I', 'am', 'fine', 'Thank', 'you', '']"
      ],
      "metadata": {
        "id": "-QthCbPEompZ"
      }
    },
    {
      "cell_type": "markdown",
      "source": [
        "re.split() 함수의 동작:\n",
        "- 주어진 문자열에서 공백, 쉼표, 마침표, 물음표, 느낌표를 포함하여 연속된 어떤 조합이라도 하나의 구분자로 취급하고, 이에 따라 문자열을 분리\n",
        "\n",
        "정규 표현식 구성 요소:\n",
        "- 대괄호([ ]): 대괄호는 문자 클래스를 만들며 대괄호 안에 포함된 어떤 문자와도 일치할 수 있다. 여기서는 공백( ), 쉼표(,), 마침표(.), 물음표(?), 느낌표(!)가 포함되어 있어 이 중 어떤 한 문자와도 일치할 수 있다.\n",
        "- 플러스 기호(+): 이 기호는 직전의 요소가 하나 이상 반복될 때 사용. 즉, `[ ,.?!]+`는 공백, 쉼표, 마침표, 물음표, 느낌표 중 하나 이상 연속된 시퀀스와 일치. 이를 통해 문자열을 분리할 때 하나의 구분자만이 아닌, 여러 구분자가 연속적으로 위치해 있는 경우에도 단일 구분점으로 취급할 수 있다."
      ],
      "metadata": {
        "id": "DsI6Mo-5UuNj"
      }
    },
    {
      "cell_type": "code",
      "source": [
        "# 구분자를 하나로 통일(정규표현식-나중에 배움 사용) 후 spilt 사용\n",
        "import re\n",
        "input_str = \"Hello, world! How are you today? I am fine. Thank you!\"\n",
        "tokens = re.split('[ ,.?!]+', input_str)\n",
        "tokens =list(filter(None, tokens))\n",
        "# tokens = [token for token in tokens if token ]\n",
        "print(tokens)"
      ],
      "metadata": {
        "id": "IKHZE-1DUu4P"
      },
      "execution_count": null,
      "outputs": []
    },
    {
      "cell_type": "code",
      "source": [
        "# 복합 대입연산자\n",
        "num = 10\n",
        "num += 10 # num = num+10\n",
        "num"
      ],
      "metadata": {
        "id": "pHLhgxUyl-HQ"
      },
      "execution_count": null,
      "outputs": []
    },
    {
      "cell_type": "code",
      "source": [
        "# 복합 대입연산자를 이용해서 4칙연산을 수행하세요\n",
        "a = 10\n",
        "a += 10 # a = a+10\n",
        "print(\"덧셈 후:\", a)\n",
        "a -= 10 # a = a-10\n",
        "print(\"뺄셈 후:\", a)\n",
        "a *= 10 # a = a*10\n",
        "print(\"곱셈 후:\", a)\n",
        "a **= 10 # a = a**10\n",
        "print(a)\n",
        "a /= 10 # a = a/10\n",
        "print(\"나눗셈 후:\", a)\n",
        "a //= 10 # a = a//10\n",
        "print(a)"
      ],
      "metadata": {
        "id": "lWf8VXG4mJGF"
      },
      "execution_count": null,
      "outputs": []
    },
    {
      "cell_type": "code",
      "source": [
        "# 소문자, 대문자 변환\n",
        "word = 'DOG'\n",
        "w1 = word.lower()\n",
        "print(w1)\n",
        "w2 = w1.upper()\n",
        "print(w2)"
      ],
      "metadata": {
        "id": "Wr0aM-din1_X"
      },
      "execution_count": null,
      "outputs": []
    },
    {
      "cell_type": "markdown",
      "source": [
        "# 이스케이프 문자\n"
      ],
      "metadata": {
        "id": "kXU-Kz5woESK"
      }
    },
    {
      "cell_type": "markdown",
      "source": [
        "- 키보드로 입력하기 어려운 기호 등을 나타낸다\n",
        "- \\로 시작, \\n(줄바꾸기), \\t(탭)"
      ],
      "metadata": {
        "id": "pYTQ-191iOZD"
      }
    },
    {
      "cell_type": "code",
      "source": [
        "print('나는 파이썬을 사랑합니다.\\n파이썬은 자바보다 훨씬 쉽습니다.')\n",
        "print('나는 파이썬을 사랑합니다.\\t파이썬은 자바보다 훨씬 쉽습니다.')"
      ],
      "metadata": {
        "id": "3uW0akAcp0bL"
      },
      "execution_count": null,
      "outputs": []
    },
    {
      "cell_type": "code",
      "source": [
        "print(\"hello\\tworld\") # 탭 문자를 사용하여 \"Hello\"와 \"World\" 사이에 탭 간격을 줍니다\n",
        "print(\"hello\\nworld\") # 줄 바꿈 문자를 사용하여 \"Hello\"와 \"World\"를 다른 줄에 출력합니다\n",
        "print(\"she said, \\\"Hi!\\\"\") # 큰따옴표를 문자열 내부에 포함시킵니다\n",
        "print('it\\s raining') # 작은따옴표를 문자열 내부에 포함시킵니다\n",
        "print(\"backslash: \\\\\") # 백슬래시를 출력합니다"
      ],
      "metadata": {
        "id": "bSeOF2YeqCi0"
      },
      "execution_count": null,
      "outputs": []
    },
    {
      "cell_type": "markdown",
      "source": [
        "#### 문자열 포멧\n",
        "- % operator 사용 : % 연산자를 사용하려면 %(VAR_NAME)TYPE 형식으로 적어주며 VAR_NAME 은 바인딩할 변수명을 TYPE 은 변수의 유형을 적어준다.\n",
        "- str.format : str.format() 은 파이썬 표현식 값을 바인딩할 부분을 중괄호 {} 로 표시하고 .format() 뒤에 바인딩할 값을 기술해 준다.\n",
        "- f-string : 문자열에 f 나 F 접두사를 붙이고 표현식을 {expr} 형식으로 작성하면 출력 문자열이 파이썬 표현식의 값으로 바뀐다."
      ],
      "metadata": {
        "id": "3CSEJtfWrMBI"
      }
    },
    {
      "cell_type": "code",
      "source": [
        "print('%(num)d', '%(float)f', '%(string)s' %{\"num\":3, \"float\":3, \"string\":'hello'})"
      ],
      "metadata": {
        "id": "c7N4JAr8rPtd"
      },
      "execution_count": null,
      "outputs": []
    },
    {
      "cell_type": "code",
      "source": [
        "txt1 = '자바' ; txt2 = '파이썬'\n",
        "num1 = 5 ; num2 = 10\n",
        "print('나는 %s보다 %s에 더 익숙합니다.'%(txt1, txt2))\n",
        "print('%d + %d = %d'%(num1, num2, num1+num2))\n",
        "print('작년 세계 경제 성장률은 전년에 비해 %d%% 포인트 증가했다.'%num2)"
      ],
      "metadata": {
        "id": "Oop2ucO_sUYM"
      },
      "execution_count": null,
      "outputs": []
    },
    {
      "cell_type": "code",
      "source": [
        "# str.format 문자는 다옴표 안, 중괄호 안만 처리\n",
        "print('We are the {} who say \"{}!\"'.format('knights', 'Ni'))"
      ],
      "metadata": {
        "id": "sHOu-YXDuBTq"
      },
      "execution_count": null,
      "outputs": []
    },
    {
      "cell_type": "code",
      "source": [
        "# f-string\n",
        "name = '맘미'\n",
        "age = 30\n",
        "f'나의 이름은 {name}입니다. 나이는 {age}입니다.'"
      ],
      "metadata": {
        "id": "pXYdrZG1udjk"
      },
      "execution_count": null,
      "outputs": []
    },
    {
      "cell_type": "code",
      "source": [
        "table = {'Tom' : 1234, 'Jack' : 4518, 'Eddie' : 9638}\n",
        "for name, phone in table.items():\n",
        "  print(f'{name:5} ==> {phone:5d}') # 최소 5개 문자 너비"
      ],
      "metadata": {
        "id": "DubuZbkRvRE2"
      },
      "execution_count": null,
      "outputs": []
    },
    {
      "cell_type": "code",
      "source": [
        "# 소수점 4자리까지만 표현\n",
        "y = 3.42134234\n",
        "f{y:0.5f} #f{y:0.nf} : n번째 자리까지 표현"
      ],
      "metadata": {
        "id": "W8Q1fhm-wYhq"
      },
      "execution_count": null,
      "outputs": []
    },
    {
      "cell_type": "code",
      "source": [
        "# 소수점 4자리까지 표현하고 총 자리수를 10으로 맞춤\n",
        "y = 3.42134234\n",
        "f'{y:10.4f}'#f{y:x.nf} : n번째 자리까지 표현, x으로 총 자리수 맞춤"
      ],
      "metadata": {
        "id": "GgiFVAeEwkZi"
      },
      "execution_count": null,
      "outputs": []
    },
    {
      "cell_type": "markdown",
      "source": [
        "Q. num1 = 12345, num2 = 12.345679을 아래와 같이 출력하세요\n",
        "12345\n",
        "     12345\n",
        "12.345679\n",
        "     12.346\n",
        "\n"
      ],
      "metadata": {
        "id": "MeXt_wEGzPnH"
      }
    },
    {
      "cell_type": "code",
      "source": [
        "num1 = 12345\n",
        "num2 = 12.345679\n",
        "print(num1)\n",
        "print(f'{num1:10d}')\n",
        "#print(f'{num1:10.0f}')\n",
        "print(num2)\n",
        "print(f'{num2:10.3f}')"
      ],
      "metadata": {
        "id": "gsBxa3NZy_SP"
      },
      "execution_count": null,
      "outputs": []
    },
    {
      "cell_type": "markdown",
      "source": [
        "#### 2진수, 8진수, 16진수의 데이터 표현 방법\n",
        "\n",
        "- 우리가 프로그래밍을 하면서 변수에 어떤 값을 저장할 때 10진수는 일상적 표현을 그대로 대입한다.\n",
        "- 예를들어 15를 저장하고 싶다면 int a= 15; 와 같이 15라는 숫자를 그대로 대입하면 된다.\n",
        "- 하지만 2진수, 8진수, 16진수는 표현법이 따로 정해져있다.<br><br>  \n",
        "\n",
        "- 2진수는 대입하고자 하는 값 앞에 0b를 붙인다. (숫자0과 영문자b)\n",
        "- 8진수는 대입하고자 하는 값 앞에 0o 을 붙인다. (숫자0 영문자o)\n",
        "- 16진수는 대입하고자 하는 값 앞에 0x 를 붙인다. (숫자0과 영문자x)\n",
        "\n",
        "아래의 예시를 보자.\n",
        "변수 a,b,c,d 는 모두 10진수 122 이라는 값을 저장하는 코드이다.\n",
        "\n",
        "122는\n",
        "- 2진수로 1111010\n",
        "- 8진수로 172\n",
        "- 16진수로 7A 이다."
      ],
      "metadata": {
        "id": "6XQBg6hj1Jus"
      }
    },
    {
      "cell_type": "code",
      "source": [
        "a = 0o172 # 8진수 0o\n",
        "b = 0x7a # 16진수 0x\n",
        "c = 0b1111010 # 2진수 0b\n",
        "print(a)\n",
        "print(b)\n",
        "print(c)"
      ],
      "metadata": {
        "id": "1OPKZvm01st0"
      },
      "execution_count": null,
      "outputs": []
    },
    {
      "cell_type": "markdown",
      "source": [
        "Q1. 10을 10진수, 2진수, 8진수, 16진수로 출력하세요"
      ],
      "metadata": {
        "id": "4g88cKLc2DMd"
      }
    },
    {
      "cell_type": "code",
      "source": [
        "print(10)\n",
        "print(0b10)\n",
        "print(0o10)\n",
        "print(0x10)"
      ],
      "metadata": {
        "id": "03WV9Q-p2BCR"
      },
      "execution_count": null,
      "outputs": []
    },
    {
      "cell_type": "code",
      "source": [
        "# 파이썬 자료형 - 숫자형(정수, 실수, 8진수, 16진수)\n",
        "# 16진수 10 a, 11b, 12 c, 13 d, 14 e, 15 f\n",
        "e = 0o177 # 8 0o\n",
        "f = 0xABC # 16 0x\n",
        "g = 0b101010 # 2 0b\n",
        "print(e)\n",
        "print(f)\n",
        "print(g)"
      ],
      "metadata": {
        "id": "9nSIo_f23O6W"
      },
      "execution_count": null,
      "outputs": []
    },
    {
      "cell_type": "code",
      "source": [
        "# 2진수를 10진수로 표현\n",
        "g1 = 0b1000\n",
        "g2 = 0b100\n",
        "g3 = 0b10\n",
        "print(g1)\n",
        "print(g2)\n",
        "print(g3)"
      ],
      "metadata": {
        "id": "mLQY1BHy4BvX"
      },
      "execution_count": null,
      "outputs": []
    },
    {
      "cell_type": "code",
      "source": [
        "# 16진수를 10진수로 표현\n",
        "f1 = 0xA\n",
        "f2 = 0xB\n",
        "f3 = 0xAB\n",
        "print(f1)\n",
        "print(f2)\n",
        "print(f3)\n",
        "print(16*10+1*11)"
      ],
      "metadata": {
        "id": "r3z1CaR35Qxe"
      },
      "execution_count": null,
      "outputs": []
    },
    {
      "cell_type": "code",
      "source": [
        "# 0xABC를 계산하세요\n",
        "print(0xabc)\n",
        "print(16*16*10+16*11+12)"
      ],
      "metadata": {
        "id": "Znb8vPVG6FXQ"
      },
      "execution_count": null,
      "outputs": []
    },
    {
      "cell_type": "markdown",
      "source": [
        "Task2_0429. 십진수 122를 2진수, 8진수, 16진수로 변경하여 출력하세요."
      ],
      "metadata": {
        "id": "I80q1SFv6yTB"
      }
    },
    {
      "cell_type": "code",
      "source": [
        "print(bin(122))\n",
        "print(oct(122))\n",
        "print(hex(122))"
      ],
      "metadata": {
        "id": "owAo3-A267ro"
      },
      "execution_count": null,
      "outputs": []
    },
    {
      "cell_type": "code",
      "source": [
        "decimal_number = 122\n",
        "binary_number = bin(decimal_number)\n",
        "print(\"2진수\", binary_number)\n",
        "octal_number = oct(decimal_number)\n",
        "print(\"8진수\", octal_number)\n",
        "hexadecimal_number = hex((decimal_number))\n",
        "print(\"16진수\", hexadecimal_number)"
      ],
      "metadata": {
        "id": "1s4hNXhNaDjG"
      },
      "execution_count": null,
      "outputs": []
    },
    {
      "cell_type": "markdown",
      "source": [
        "Task3_0429. 두 수의 곱셈 결과를 계산하고, 그 결과에 10을 더하세요."
      ],
      "metadata": {
        "id": "5-bYPLxd7ZPL"
      }
    },
    {
      "cell_type": "code",
      "source": [
        "n1 = 0b101\n",
        "n2 = 0x31\n",
        "n3 = n1*n2\n",
        "print(n3)\n",
        "print(n3+10)"
      ],
      "metadata": {
        "id": "Q0q1XwOP7f6s"
      },
      "execution_count": null,
      "outputs": []
    },
    {
      "cell_type": "code",
      "source": [
        "# key value dict 불변경 tuple 중복x 집합 적합한 형태 사용\n",
        "n1 = 0o34\n",
        "n2 = 0o37\n",
        "result = n1*n2+10\n",
        "print(result)"
      ],
      "metadata": {
        "id": "LwuWi3krbQWc"
      },
      "execution_count": null,
      "outputs": []
    },
    {
      "cell_type": "markdown",
      "source": [
        "Task4_0429. 주어진 리스트에서 두 번째 요소를 삭제하고, 마지막에 새로운 요소 'Python'을 추가하세요.\n",
        "\n",
        "리스트: ['Java', 'C', 'JavaScript']"
      ],
      "metadata": {
        "id": "CRn5wwCh7fZ3"
      }
    },
    {
      "cell_type": "code",
      "source": [
        "lisot = ['Java', 'C', 'JavaScript']\n",
        "lisot.remove('C')\n",
        "lisot.append('Python')\n",
        "print(lisot)"
      ],
      "metadata": {
        "id": "vonB__Zi7gTA"
      },
      "execution_count": null,
      "outputs": []
    },
    {
      "cell_type": "code",
      "source": [
        "languages = ['Java', 'C', 'JavaScript']\n",
        "del languages[1]\n",
        "lauguages.append('Python')\n",
        "print(languages)"
      ],
      "metadata": {
        "id": "DjxA5vhMbtYc"
      },
      "execution_count": null,
      "outputs": []
    },
    {
      "cell_type": "code",
      "source": [
        "languages = ['Java', 'C', 'JavaScript']\n",
        "print(languages.pop(1))\n",
        "languages.append('Python')\n",
        "print(languages)"
      ],
      "metadata": {
        "id": "bG1G3ufacB6E"
      },
      "execution_count": null,
      "outputs": []
    },
    {
      "cell_type": "markdown",
      "source": [
        "Task5_0429. 주어진 문자열에서 처음 세 글자와 마지막 세 글자를 연결하여 새로운 문자열을 만드세요.\n",
        "\n",
        "문자열: 'Incredible'"
      ],
      "metadata": {
        "id": "W-cjmD8k7gi3"
      }
    },
    {
      "cell_type": "code",
      "source": [
        "str1ng = 'Incredible'\n",
        "li8 = list(str1ng)\n",
        "li6 = set(li8[:3])\n",
        "li7 = set(li8[7:10])\n",
        "list[li6|li7]"
      ],
      "metadata": {
        "id": "a3ILCR9Q8AUp"
      },
      "execution_count": null,
      "outputs": []
    },
    {
      "cell_type": "code",
      "source": [
        "text = 'Incredible'\n",
        "new_text = text[:3] + text[-3:]\n",
        "print(new_text)"
      ],
      "metadata": {
        "id": "IGPLLVBfdcK6"
      },
      "execution_count": null,
      "outputs": []
    },
    {
      "cell_type": "markdown",
      "source": [
        "Task6_0429. 사용자의 이름과 이메일을 딕셔너리로 저장하고, 이름을 입력받아 해당하는 이메일을 출력하세요.\n",
        "\n",
        "사용자 정보: 이름 - 'Alice', 이메일 - 'alice@example.com'"
      ],
      "metadata": {
        "id": "LRKWSrbO8EKL"
      }
    },
    {
      "cell_type": "code",
      "source": [
        "d9 = {'Alice' : 'alice@example.com'}\n",
        "d9['Alice']"
      ],
      "metadata": {
        "id": "oI3QLHKU8DyZ"
      },
      "execution_count": null,
      "outputs": []
    },
    {
      "cell_type": "code",
      "source": [
        "d9 = {'Alice' : 'alice@example.com'}\n",
        "name = input(\"이름을 입력하세요 : \")\n",
        "if name in d9:\n",
        "  print(d9[name])\n",
        "else:\n",
        "  print(\"존재하지 않는 이름입니다.\")"
      ],
      "metadata": {
        "id": "D4kpkz3Gd_0w"
      },
      "execution_count": null,
      "outputs": []
    },
    {
      "cell_type": "markdown",
      "source": [
        "Task7_0429. 주어진 두 튜플에서 공통 요소만을 찾아 집합으로 만드세요.\n",
        "\n",
        "튜플: (1, 2, 3, 4, 5)와 (4, 5, 6, 7, 8)"
      ],
      "metadata": {
        "id": "ZwUw9U0e8G-c"
      }
    },
    {
      "cell_type": "code",
      "source": [
        "tuple1 = (1, 2, 3, 4, 5)\n",
        "tuple2 = (4, 5, 6, 7, 8)\n",
        "li3 = set(tuple1)\n",
        "li4 = set(tuple2)\n",
        "li3&li4"
      ],
      "metadata": {
        "id": "LEdkY3PE8Iei"
      },
      "execution_count": null,
      "outputs": []
    },
    {
      "cell_type": "code",
      "source": [
        "tuple1 = (1, 2, 3, 4, 5)\n",
        "tuple2 = (4, 5, 6, 7, 8)\n",
        "common_elements = set(tuple1) & set(tuple2)\n",
        "print(common_elements)"
      ],
      "metadata": {
        "id": "DApTqiKxexU7"
      },
      "execution_count": null,
      "outputs": []
    },
    {
      "cell_type": "markdown",
      "source": [
        "Task8_Challenge_0429. 다음 요구 사항을 충족하는 프로그램을 작성하세요:\n",
        "\n",
        "- 사용자로부터 이름, 나이, 좋아하는 색상을 입력받습니다.\n",
        "- 입력받은 정보를 딕셔너리로 저장하고, 모든 사용자 정보를 리스트에 저장합니다.\n",
        "- 이름이 'John'인 사용자의 정보만 출력하세요.\n",
        "- 전체 사용자의 평균 나이를 계산하고 출력하세요."
      ],
      "metadata": {
        "id": "7cHExHtS8RLa"
      }
    },
    {
      "cell_type": "markdown",
      "source": [
        "1. 사용자 데이터:\n",
        "- 이름: John\n",
        "- 나이: 28\n",
        "- 좋아하는 색상: Blue\n",
        "2. 사용자 데이터:\n",
        "- 이름: Alice\n",
        "- 나이: 24\n",
        "- 좋아하는 색상: Red\n",
        "3. 사용자 데이터:\n",
        "- 이름: Maria\n",
        "- 나이: 32\n",
        "- 좋아하는 색상: Green"
      ],
      "metadata": {
        "id": "4sk3bcia8rVw"
      }
    },
    {
      "cell_type": "code",
      "source": [
        "d4 = {'John' : ['28', 'Blue'], 'Alice' : ['24', 'Red'], 'Maria' : ['32', 'Green']}\n",
        "print(list[d4])\n",
        "d4['John']"
      ],
      "metadata": {
        "id": "NJIWPvQ28SpI"
      },
      "execution_count": null,
      "outputs": []
    },
    {
      "cell_type": "code",
      "source": [
        "# _<형식적 표현, 별로 안 중요함\n",
        "users = []\n",
        "for _ in range(3):\n",
        "  name = input(\"이름을 입력하세요 : \")\n",
        "  age = input(\"나이를 입력하세요 : \")\n",
        "  favorite_color = input(\"좋아하는 색을 입력하세요 : \")\n",
        "  user_info = {'name' : name , 'age' : age , 'favorite_color' : favorite_color }\n",
        "  users.append(user_info)\n",
        "\n",
        "for user in users:\n",
        "  if user['name'] == 'John':\n",
        "    print(f'John\\'s info: {user}')\n",
        "\n",
        " # total_age = sum(user['age'] for user in users)\n",
        " # average_age = total_age / len(users)\n",
        " # print(f'Averafe Age of users : {average_age : .2f}')"
      ],
      "metadata": {
        "id": "WXdgxVmZjPlS"
      },
      "execution_count": null,
      "outputs": []
    },
    {
      "cell_type": "markdown",
      "source": [
        "# 제어문/control statement\n",
        "\n",
        "- 프로그램의 흐름을 제어하는데 사용"
      ],
      "metadata": {
        "id": "RuE2QYS08TEi"
      }
    },
    {
      "cell_type": "markdown",
      "source": [
        "#### 파이썬에서 \"모든 것이 객체\"\n",
        "파이썬 내에서 데이터와 함수, 모듈, 클래스 등 모든 것이 객체로 취급된다는 것을 의미 (파이썬은 객체를 사용)\n",
        "- 기본 데이터 타입(예: 정수, 실수, 문자열 등)을 포함하여 모든 데이터가 객체. 각 데이터 타입은 특정 클래스의 인스턴스로, 해당 데이터 타입의 메소드와 속성을 가진다. 예를 들어, 정수는 int 클래스의 인스턴스로, 여러 가지 메소드(예: bit_length(), __add__() 등)를 사용할 수 있습니다.\n",
        "- 객체 지향 :"
      ],
      "metadata": {
        "id": "VfeF_eGCm6_c"
      }
    },
    {
      "cell_type": "code",
      "source": [
        "x = 10\n",
        "print(x.bit_length()) # 10의 비트 길이를 계산"
      ],
      "metadata": {
        "id": "GpyXbQU_nshG"
      },
      "execution_count": null,
      "outputs": []
    },
    {
      "cell_type": "markdown",
      "source": [
        "- 파이썬에서 함수도 객체로 취급. 이는 함수를 변수에 할당하거나, 다른 함수의 인자로 전달하거나, 리스트나 딕셔너리 같은 데이터 구조에 저장할 수 있음을 의미"
      ],
      "metadata": {
        "id": "L-jAg3wWoXU5"
      }
    },
    {
      "cell_type": "code",
      "source": [
        "def greet():\n",
        "  print(\"Hello, world!\")\n",
        "print(greet.__name__)"
      ],
      "metadata": {
        "id": "JrhdovifonL6"
      },
      "execution_count": null,
      "outputs": []
    },
    {
      "cell_type": "markdown",
      "source": [
        "- 파이썬에서 클래스와 모듈 또한 객체. 클래스는 type의 인스턴스로, 메소드와 속성을 포함할 수 있다. 모듈도 객체로 취급되어, 모듈 내의 함수나 변수 등을 속성으로 가질 수 있다."
      ],
      "metadata": {
        "id": "ZBXfkUcBouJm"
      }
    },
    {
      "cell_type": "code",
      "source": [
        "import math\n",
        "print(type(math)) # <class 'module'> 크기 따질 수 없음\n",
        "print(math.sqrt(4)) # 모듈의 메소드 사용"
      ],
      "metadata": {
        "id": "sNpKUSu5oyRS"
      },
      "execution_count": null,
      "outputs": []
    },
    {
      "cell_type": "markdown",
      "source": [
        "type 함수가 반환하는 결과가 클래스 이름(예: <class 'list'>)으로 나오는 것은, 해당 객체가 해당 클래스의 인스턴스라는 것을 의미"
      ],
      "metadata": {
        "id": "kdJY__3roypD"
      }
    },
    {
      "cell_type": "code",
      "source": [
        "x = 1\n",
        "print(type(x)) # <class 'int'>\n",
        "y = \"hello\"\n",
        "print(type(y)) # <class 'str'>\n",
        "def func():\n",
        "    pass\n",
        "print(type(func)) # <class 'function'>"
      ],
      "metadata": {
        "id": "yUKjZgZ5oy8r"
      },
      "execution_count": null,
      "outputs": []
    },
    {
      "cell_type": "code",
      "source": [
        "list_example = [1, 2, 3]\n",
        "print(type(list_example)) # <class 'list'>\n",
        "tuple_example = (1, 2, 3)\n",
        "print(type(tuple_example)) # <class 'tuple'>\n",
        "dict_example = {'key': 'value'}\n",
        "print(type(dict_example)) # <class 'dict'>"
      ],
      "metadata": {
        "id": "oSP9aKtOrW2_"
      },
      "execution_count": null,
      "outputs": []
    },
    {
      "cell_type": "code",
      "source": [
        "# 사용자가 직접 작성한 클래스에서 객체를 만들 경우 <class '__main__.Car(클래스 이름)'>\n",
        "# __main__은 현재 스크립트가 메인 프로그램으로 실행되고 있으며, Car 클래스가 이 메인 스크립트 안에 정의됨을 의미\n",
        "class Car:\n",
        "  def __init__(self, model):\n",
        "    self.model = model\n",
        "\n",
        "my_car = Car('Toyota')\n",
        "print(type(my_car))"
      ],
      "metadata": {
        "id": "nq8dL3I9sSPM"
      },
      "execution_count": null,
      "outputs": []
    },
    {
      "cell_type": "code",
      "source": [
        "print(dir(list)) # 사용자 함수는 안됨 파이썬 안에 있는 함수들만"
      ],
      "metadata": {
        "colab": {
          "base_uri": "https://localhost:8080/"
        },
        "id": "dvFEHSqpwAj0",
        "outputId": "5b3c5ffc-9f96-442b-f666-caae4cd86bb7"
      },
      "execution_count": null,
      "outputs": [
        {
          "output_type": "stream",
          "name": "stdout",
          "text": [
            "['__add__', '__class__', '__class_getitem__', '__contains__', '__delattr__', '__delitem__', '__dir__', '__doc__', '__eq__', '__format__', '__ge__', '__getattribute__', '__getitem__', '__gt__', '__hash__', '__iadd__', '__imul__', '__init__', '__init_subclass__', '__iter__', '__le__', '__len__', '__lt__', '__mul__', '__ne__', '__new__', '__reduce__', '__reduce_ex__', '__repr__', '__reversed__', '__rmul__', '__setattr__', '__setitem__', '__sizeof__', '__str__', '__subclasshook__', 'append', 'clear', 'copy', 'count', 'extend', 'index', 'insert', 'pop', 'remove', 'reverse', 'sort']\n"
          ]
        }
      ]
    },
    {
      "cell_type": "code",
      "source": [
        "print(dir(int))"
      ],
      "metadata": {
        "colab": {
          "base_uri": "https://localhost:8080/"
        },
        "id": "8rx0x4GOwT5J",
        "outputId": "5596add7-42b4-4510-fb84-ee448b2244f1"
      },
      "execution_count": null,
      "outputs": [
        {
          "output_type": "stream",
          "name": "stdout",
          "text": [
            "['__abs__', '__add__', '__and__', '__bool__', '__ceil__', '__class__', '__delattr__', '__dir__', '__divmod__', '__doc__', '__eq__', '__float__', '__floor__', '__floordiv__', '__format__', '__ge__', '__getattribute__', '__getnewargs__', '__gt__', '__hash__', '__index__', '__init__', '__init_subclass__', '__int__', '__invert__', '__le__', '__lshift__', '__lt__', '__mod__', '__mul__', '__ne__', '__neg__', '__new__', '__or__', '__pos__', '__pow__', '__radd__', '__rand__', '__rdivmod__', '__reduce__', '__reduce_ex__', '__repr__', '__rfloordiv__', '__rlshift__', '__rmod__', '__rmul__', '__ror__', '__round__', '__rpow__', '__rrshift__', '__rshift__', '__rsub__', '__rtruediv__', '__rxor__', '__setattr__', '__sizeof__', '__str__', '__sub__', '__subclasshook__', '__truediv__', '__trunc__', '__xor__', 'as_integer_ratio', 'bit_count', 'bit_length', 'conjugate', 'denominator', 'from_bytes', 'imag', 'numerator', 'real', 'to_bytes']\n"
          ]
        }
      ]
    },
    {
      "cell_type": "markdown",
      "source": [
        "#### 조건문 (Conditional Statements):\n",
        "- if: 특정 조건이 참(True)일 때 코드 블록을 실행\n",
        "    - 조건은 비교 연산자(==, !=, <, >, <=, >=)와 논리 연산자(and-둘 다 만족, or-하나만 만족, not-반대)를 사용하여 표현할 수 있다\n",
        "   - 여러개 사용 불가능하며 첫번째로만 사용 가능\n",
        "- elif(필수x): 이전의 if 또는 elif 조건이 거짓(False)일 때 다른 조건을 검사\n",
        "    - elif는 'else if'의 축약형으로, 이전 if 또는 elif 문의 조건이 거짓(False)일 때 다른 조건을 검사\n",
        "    - 여러 elif 문을 사용하여 다양한 조건을 검사할 수 있다 if 1 elif 2\n",
        "- else:\n",
        "    - 이전의 if 또는 elif 문의 조건이 모두 거짓일 때 실행할 코드 블록을 지정\n",
        "    - 여러개 사용 불가능하며 마지막에서만 사용 가능"
      ],
      "metadata": {
        "id": "Iah8gRbg8V3F"
      }
    },
    {
      "cell_type": "code",
      "source": [
        "x = 10\n",
        "if x > 5:\n",
        "  print(\"x는 5보다 큽니다.\")\n",
        "elif x == 5:\n",
        "  print(\"x는 5입니다.\")\n",
        "else:\n",
        "  print(\"x는 5보다 작습니다.\")"
      ],
      "metadata": {
        "id": "hHpQKrIB9K6j"
      },
      "execution_count": null,
      "outputs": []
    },
    {
      "cell_type": "code",
      "source": [
        "x = 3\n",
        "if x >= 5:\n",
        "  print(\"x는 5보다 크거나 같습니다.\")\n",
        "else:\n",
        "  print(\"x는 5보다 작습니다.\")"
      ],
      "metadata": {
        "id": "5mRQlSo4-nuR"
      },
      "execution_count": null,
      "outputs": []
    },
    {
      "cell_type": "code",
      "source": [
        "# 각 조건이 서로 독립적일땐 if문을 연속해서 사용\n",
        "x = 10\n",
        "y = 5\n",
        "\n",
        "if x > 5:\n",
        "  print(\"x는 5보다 큽니다.\")\n",
        "if y < 10:\n",
        "  print(\"y는 10보다 작습니다.\")\n",
        "if x > y:\n",
        "  print(\"x는 y보다 큽니다.\")"
      ],
      "metadata": {
        "id": "pEkRF9rfSOLs"
      },
      "execution_count": null,
      "outputs": []
    },
    {
      "cell_type": "code",
      "source": [
        "x = 0xAE\n",
        "y = 0o15\n",
        "if x > 5:\n",
        "  if y >=3:\n",
        "    print(\"x는 5보다 크고 y는 3보다 크거나 같습니다.\")\n",
        "  else:\n",
        "  print(\"x는 5보다 작거나 같고 ysms 3보다 작습니다.\")\n",
        " else:\n",
        "  print(\"x는 5보다 작거나 같습니다.\")"
      ],
      "metadata": {
        "id": "DVqCvPCtTA_2"
      },
      "execution_count": null,
      "outputs": []
    },
    {
      "cell_type": "markdown",
      "source": [
        "Q. 이중 조건문을 사용하여 코드를 작성하세요(내용은 자유, 단 if문 if, ~elif, ~else 복수로 사용)"
      ],
      "metadata": {
        "id": "gSrx-b8yUN8z"
      }
    },
    {
      "cell_type": "code",
      "source": [
        "score = int(input(\"점수를 입력하세요 : \"))\n",
        "if score < 70:\n",
        "  print(\"채점을 진행하지 않습니다.\")\n",
        "else:\n",
        "  if score >= 90:\n",
        "    if score := 100:\n",
        "      print(\"S\")\n",
        "  elif score > 95:\n",
        "    print(\"A+\")\n",
        "  elif score >= 80:\n",
        "    if score >= 85:\n",
        "      print(\"B+\")\n",
        "  else:\n",
        "    print(\"P\")"
      ],
      "metadata": {
        "id": "wnb0etxuWI2s"
      },
      "execution_count": null,
      "outputs": []
    },
    {
      "cell_type": "code",
      "source": [
        "a1 = 0o637\n",
        "a2 = 0x474\n",
        "a3 = 0xAB3\n",
        "if a1 < a2:\n",
        "  print(a1*0o65)\n",
        "  if a2 > a3:\n",
        "    print(a3)\n",
        "  elif a2 := a3:\n",
        "    print(a2)\n",
        "  else:\n",
        "    print(a1+a2)\n",
        "elif a1 > a3:\n",
        "  print(a2)\n",
        "  if a2 < a3:\n",
        "    print(0x10)\n",
        "  else:\n",
        "    print(a1*a2*a3)\n",
        "else:\n",
        "  print(a1/a2/a3)"
      ],
      "metadata": {
        "id": "j55nBjVBUgzR"
      },
      "execution_count": null,
      "outputs": []
    },
    {
      "cell_type": "markdown",
      "source": [
        "Q. listdata = ['a', 'b', 'c']에서 조건문을 이용래서 아래와 같이 출력하세요\n",
        "\n",
        "- a가 listdata에 있습니다.\n",
        "- b가 listdata에 있습니다.\n",
        "- c가 listdata에 있습니다."
      ],
      "metadata": {
        "id": "HQlycRXoYn5g"
      }
    },
    {
      "cell_type": "code",
      "source": [
        "listdata = ['a', 'b', 'c']\n",
        "if 'a' in listdata:\n",
        "  print('a가 listdata에 있습니다.')\n",
        "if 'b' in listdata:\n",
        "  print('b가 listdata에 있습니다.')\n",
        "if 'c' in listdata:\n",
        "  print('c가 listdata에 있습니다.')"
      ],
      "metadata": {
        "id": "O9MOjUEeYerf"
      },
      "execution_count": null,
      "outputs": []
    },
    {
      "cell_type": "code",
      "source": [
        "listdata = ['a', 'b', 'c']\n",
        "\n",
        "for i in listdata:\n",
        "  if i in listdata:\n",
        "    print(f'{i}가 listdata에 있습니다.')"
      ],
      "metadata": {
        "id": "xxrTRQvPZ9lM"
      },
      "execution_count": null,
      "outputs": []
    },
    {
      "cell_type": "markdown",
      "source": [
        "Q. \"주머니에 돈이 10000원 이상 있으면 택시를 타고, 돈이 모자르거나 없으면 걸어간다.\"를 만족하는 조건문을 작성하세요."
      ],
      "metadata": {
        "id": "O_9FHVgTaQM0"
      }
    },
    {
      "cell_type": "code",
      "source": [
        "m = int(input(\"주머니에 있는 돈 : \"))\n",
        "if m >= 10000: # 만원 이상\n",
        "  print(\"택시를 탄다\")\n",
        "else: # 만원 미만\n",
        "  print(\"걸어간다.\")"
      ],
      "metadata": {
        "id": "ItF3_O4GaZJw"
      },
      "execution_count": null,
      "outputs": []
    },
    {
      "cell_type": "markdown",
      "source": [
        "Q. 조건부 표현식을 한 줄의 조건문으로 작성하세요"
      ],
      "metadata": {
        "id": "NOLSuake9zMZ"
      }
    },
    {
      "cell_type": "code",
      "source": [
        "score = 0x217\n",
        "if score >=60:\n",
        "  message = \"success\"\n",
        "else:\n",
        "  message = 'failure'\n",
        "print(message)"
      ],
      "metadata": {
        "id": "7CJK4bS_e5Ue"
      },
      "execution_count": null,
      "outputs": []
    },
    {
      "cell_type": "code",
      "source": [
        "score = 0o415\n",
        "['succsess' if score>=60 else\"failure\"]"
      ],
      "metadata": {
        "id": "JIip0bq8fikt"
      },
      "execution_count": null,
      "outputs": []
    },
    {
      "cell_type": "markdown",
      "source": [
        "Q. \"수입(income)과 지출(spend) 금액을 비교해서 수입이 많으면 저축 증가, 반대이며 빚이 증가\" 프로그램 작성"
      ],
      "metadata": {
        "id": "9LucdDN3gdea"
      }
    },
    {
      "cell_type": "code",
      "source": [
        "income = int(input('수입 : '))\n",
        "spend = int(input('지출 : '))\n",
        "if income > spend:\n",
        "  print('저축 증가')\n",
        "elif income < spend:\n",
        "  print('빚 증가')\n",
        "else:\n",
        "  print('현상 유지')"
      ],
      "metadata": {
        "id": "9Tfbx34_gopX"
      },
      "execution_count": null,
      "outputs": []
    },
    {
      "cell_type": "code",
      "source": [
        "print(1,2,3,sep='.')"
      ],
      "metadata": {
        "id": "V1x9UVEp6zLB"
      },
      "execution_count": null,
      "outputs": []
    },
    {
      "cell_type": "markdown",
      "source": [
        "#### 반복문/loop statement\n",
        "- for: 시퀀스(리스트, 튜플, 문자열 등)의 아이템을 순회하면서 코드 블록을 실행\n",
        "- while: 특정 조건이 참인 동안 코드 블록을 반복하여 실행 (참이면 무한반복, 브레이크 같은거 없음 못 끊음)"
      ],
      "metadata": {
        "id": "omZFs1Y-hqC4"
      }
    },
    {
      "cell_type": "code",
      "source": [
        "# for 루프는 시퀸스(리스트, 튜플, 문자열 등)나 반복 가능한 객체(litreable)의 요소를 순회\n",
        "for i in range(5):\n",
        "  print(i, end = ' ') # end = ' ' 가로인걸 세로로 안에 뭐 넣으면 그걸 기준으로 함 e,g > end = ','\n",
        "print('\\n')\n",
        "count = 0\n",
        "while count < 5:\n",
        "  print(count, end = ' ')\n",
        "  count += 1 # 위로 올리면 1부터 시작"
      ],
      "metadata": {
        "id": "0VvnD7xciTPI"
      },
      "execution_count": null,
      "outputs": []
    },
    {
      "cell_type": "code",
      "source": [
        "# 리스트를 순회하는 예\n",
        "for i in [1, 2, 3, 4, 5]:\n",
        "  print(i, end = ' ')\n",
        "# 문자열을 순회하는 예\n",
        "for char in \"hello\":\n",
        "  print(char, end = ' ')"
      ],
      "metadata": {
        "id": "R-DmHZyLlJby"
      },
      "execution_count": null,
      "outputs": []
    },
    {
      "cell_type": "code",
      "source": [
        "# while 루프는 주어진 조건이 참(True)인 동안 코드 블록을 반복\n",
        "# 조건이 거짓(False)이 되면 루프가 종료\n",
        "count = 0\n",
        "sum = 0\n",
        "while count < 5:\n",
        "  sum += count\n",
        "  print(sum, end = ' ')\n",
        "  count += 1"
      ],
      "metadata": {
        "id": "J2xgVqnYjh71"
      },
      "execution_count": null,
      "outputs": []
    },
    {
      "cell_type": "code",
      "source": [
        "# d에서 반복문을 사용하여 97 98 99 을 출력하세요\n",
        "d = {'a' : 97, 'b' : 98, 'c' : 99}\n",
        "for key in d:\n",
        "  print(d[key], end = ' ') # d[key] ; int\n",
        "  print(type(d[key]))"
      ],
      "metadata": {
        "colab": {
          "base_uri": "https://localhost:8080/"
        },
        "id": "3i1utO3km_iP",
        "outputId": "a87bfbbe-91de-49a6-b2fd-42593c9f3edf"
      },
      "execution_count": null,
      "outputs": [
        {
          "output_type": "stream",
          "name": "stdout",
          "text": [
            "97 <class 'int'>\n",
            "98 <class 'int'>\n",
            "99 <class 'int'>\n"
          ]
        }
      ]
    },
    {
      "cell_type": "code",
      "source": [
        "print(d.keys())\n",
        "print(type(d.keys()))\n",
        "print(d.values())\n",
        "print(type(d.values()))"
      ],
      "metadata": {
        "colab": {
          "base_uri": "https://localhost:8080/"
        },
        "id": "SkCwruouqxjj",
        "outputId": "2e74d2d0-4010-4249-f751-fb59fe784f9f"
      },
      "execution_count": null,
      "outputs": [
        {
          "output_type": "stream",
          "name": "stdout",
          "text": [
            "dict_keys(['a', 'b', 'c'])\n",
            "<class 'dict_keys'>\n",
            "dict_values([97, 98, 99])\n",
            "<class 'dict_values'>\n"
          ]
        }
      ]
    },
    {
      "cell_type": "markdown",
      "source": [
        "dict_values 클래스의 이해:\n",
        "- 클래스 정의: 파이썬에서 클래스는 객체를 생성하는 데 사용되는 템플릿. dict_values는 딕셔너리의 값을 보여주는 뷰 객체를 생성하는 특별한 내장 클래스.\n",
        "- 뷰 객체: dict_values 객체는 딕셔너리의 값에 대한 동적인 뷰를 제공. \"뷰(view)\"란 원본 딕셔너리 객체의 값이 변하면 그 변화가 dict_values 객체에도 반영되는, 원본 데이터의 실시간 반영본을 의미. 이는 딕셔너리의 값들이 수정, 추가, 삭제될 때 dict_values 객체가 자동으로 업데이트된다는 의미.\n",
        "- 객체 인스턴스: dict_values 객체는 dict_values 클래스의 인스턴스. 이 클래스는 파이썬의 다른 모든 클래스처럼 특정 데이터 구조와 메서드를 가진다. 예를 들어, dict_values 객체는 순회 가능하며 (iterable), 딕셔너리의 모든 값을 순차적으로 접근할 수 있는 메서드를 제공. 딕셔너리 타입에서만 사용"
      ],
      "metadata": {
        "id": "coxlnK3nyIA3"
      }
    },
    {
      "cell_type": "markdown",
      "source": [
        "#### 제어문 관련 키워드:\n",
        "- break: 현재의 반복문을 중단하고, 반복문 바깥의 코드를 실행 (끝냄)\n",
        "- continue: 반복문의 나머지 부분을 건너뛰고, 다음 반복을 시작 (그거만 건너뜀)"
      ],
      "metadata": {
        "id": "B4HIfYu3hyQW"
      }
    },
    {
      "cell_type": "code",
      "source": [
        "for i in range(5):\n",
        "  if i ==3:\n",
        "    break\n",
        "  print(i, end = ' ')\n",
        "print('\\n')\n",
        "for i in range(5):\n",
        "  if i ==3:\n",
        "    continue\n",
        "  print(i, end = ' ')"
      ],
      "metadata": {
        "colab": {
          "base_uri": "https://localhost:8080/"
        },
        "id": "nJR3pCtAzTVe",
        "outputId": "8b4f136a-008d-488b-bb61-155cde9884c2"
      },
      "execution_count": null,
      "outputs": [
        {
          "output_type": "stream",
          "name": "stdout",
          "text": [
            "0 1 2 \n",
            "\n",
            "0 1 2 4 "
          ]
        }
      ]
    },
    {
      "cell_type": "code",
      "source": [
        "for i in range(10):\n",
        "  if i == 5:\n",
        "    break # i가 5일때 루프 종료\n",
        "  print(i, end = '')\n",
        "print('\\n')\n",
        "for i in range(10):\n",
        "  if i % 2 == 0:\n",
        "    continue # i가 짝수일 때 나머지 부분을 건너 뛰고 다음 반복을 시작합니다. 9까지인 이유 : for문 종료\n",
        "  print(i, end = '')"
      ],
      "metadata": {
        "colab": {
          "base_uri": "https://localhost:8080/"
        },
        "id": "mUeoyuaA0Mya",
        "outputId": "0c7d9829-7c06-4673-ea0f-3e8052788862"
      },
      "execution_count": null,
      "outputs": [
        {
          "output_type": "stream",
          "name": "stdout",
          "text": [
            "01234\n",
            "\n",
            "13579"
          ]
        }
      ]
    },
    {
      "cell_type": "code",
      "source": [
        "# for 또는 while(조건 넣기 가능) 루프에 else절을 사용하면, 루프가 정상적으로 완료된 후에 실행할 코드를 지정 for else(for문 밖 print 비슷함)\n",
        "for i in range(5):\n",
        "  print(i, end = '') # end = '' < 공백, 띄어쓰기 없음 end = ' ' < 공백, 띄어쓰기 있음\n",
        "# else:\n",
        "#  print(\"루프가 완료되었습니다.\", '\\n')\n",
        "print(\"루프가 완료되었습니다.\")\n",
        "count = 0\n",
        "while count < 5:\n",
        "  print(count, end =' ')\n",
        "  count += 1\n",
        "else:\n",
        "  print(\"루프가 완료되었습니다.\")"
      ],
      "metadata": {
        "colab": {
          "base_uri": "https://localhost:8080/"
        },
        "id": "_Ma9UJLR1ceg",
        "outputId": "ae40cac0-58fc-4488-9eee-483c68361ab2"
      },
      "execution_count": null,
      "outputs": [
        {
          "output_type": "stream",
          "name": "stdout",
          "text": [
            "01234루프가 완료되었습니다.\n",
            "0 1 2 3 4 루프가 완료되었습니다.\n"
          ]
        }
      ]
    },
    {
      "cell_type": "code",
      "source": [
        "# break문을 사용하여 루프를 중단하면 else절은 실행되지 않음 for문 밖이면 실행됨\n",
        "for i in range(5):\n",
        "  if i == 3:\n",
        "    print(f'{i}에서 루프를 중단합니다')\n",
        "    break\n",
        "#  else:\n",
        "#    print(\"루프가 정상적으로 완료되었습니다.\")\n",
        "print(\"루프가 정상적으로 완료되었습니다.\")"
      ],
      "metadata": {
        "colab": {
          "base_uri": "https://localhost:8080/"
        },
        "id": "Qk5JeXUx3djB",
        "outputId": "e4c1ec12-2261-47d2-c24e-966dc9241f5b"
      },
      "execution_count": null,
      "outputs": [
        {
          "output_type": "stream",
          "name": "stdout",
          "text": [
            "3에서 루프를 중단합니다\n",
            "루프가 정상적으로 완료되었습니다.\n"
          ]
        }
      ]
    },
    {
      "cell_type": "markdown",
      "source": [
        "#### 조건과 반복을 결합"
      ],
      "metadata": {
        "id": "PUsGKZoo4aIL"
      }
    },
    {
      "cell_type": "code",
      "source": [
        "# 10 미만의 홀수만 출력\n",
        "for i in range(10):\n",
        "# if i % 2 ==1:\n",
        "  if i % 2 !=0:\n",
        "    print(i, end = ' ')"
      ],
      "metadata": {
        "colab": {
          "base_uri": "https://localhost:8080/"
        },
        "id": "n0CsgLTd4dqT",
        "outputId": "170ae460-a7e5-47fe-b1de-8e3ba359372d"
      },
      "execution_count": null,
      "outputs": [
        {
          "output_type": "stream",
          "name": "stdout",
          "text": [
            "1 3 5 7 9 "
          ]
        }
      ]
    },
    {
      "cell_type": "markdown",
      "source": [
        "Q. 1~10 범위의 정수에서 1부터 5까지만 출력하세요"
      ],
      "metadata": {
        "id": "-1izUaVY46US"
      }
    },
    {
      "cell_type": "code",
      "source": [
        "for i in range(1,11):\n",
        "  if i > 5:\n",
        "    break\n",
        "  else:\n",
        "    print(i, end = ' ')"
      ],
      "metadata": {
        "colab": {
          "base_uri": "https://localhost:8080/"
        },
        "id": "Q3a3CH5g5A38",
        "outputId": "cb519caf-fb59-498a-cd15-0cc9a9271c9d"
      },
      "execution_count": null,
      "outputs": [
        {
          "output_type": "stream",
          "name": "stdout",
          "text": [
            "1 2 3 4 5 "
          ]
        }
      ]
    },
    {
      "cell_type": "markdown",
      "source": [
        "Q. numbers 리스트에서 15,20,25를 출력하세요(for문과 if 조건 사용 필수)"
      ],
      "metadata": {
        "id": "9smIX8695x2G"
      }
    },
    {
      "cell_type": "code",
      "source": [
        "numbers = [5, 15, 6, 20, 7, 25]\n",
        "\n",
        "for i in numbers:\n",
        " if i == 5:\n",
        "  continue\n",
        " elif i % 5 != 0:\n",
        "  continue\n",
        " else:\n",
        "    print(i, end = ' ')"
      ],
      "metadata": {
        "colab": {
          "base_uri": "https://localhost:8080/"
        },
        "id": "bWaBqnOk59TX",
        "outputId": "2c6e06dd-07a3-4c93-f639-953132d210fe"
      },
      "execution_count": null,
      "outputs": [
        {
          "output_type": "stream",
          "name": "stdout",
          "text": [
            "15 20 25 "
          ]
        }
      ]
    },
    {
      "cell_type": "code",
      "source": [
        "numbers = [5, 15, 6, 20, 7, 25]\n",
        "for i in numbers:\n",
        "  if i > 5 and i % 5 == 0:\n",
        " # if i >= 15:\n",
        "    print(i, end = ' ')"
      ],
      "metadata": {
        "colab": {
          "base_uri": "https://localhost:8080/"
        },
        "id": "04wB9sYT9-J0",
        "outputId": "38599cc5-0554-443e-8624-4661fb76d28f"
      },
      "execution_count": null,
      "outputs": [
        {
          "output_type": "stream",
          "name": "stdout",
          "text": [
            "15 20 25 "
          ]
        }
      ]
    },
    {
      "cell_type": "code",
      "source": [
        "# 특정 조건을 만족할 때까지 반복\n",
        "count = 0\n",
        "while 1: # 무한 루프\n",
        "  count +=1\n",
        "  if count > 5:\n",
        "    break # count가 5보다 클 때 루프를 종료\n",
        "  print(count)\n",
        "print('루프 종료')"
      ],
      "metadata": {
        "colab": {
          "base_uri": "https://localhost:8080/"
        },
        "id": "ml-Pl4pF-qS4",
        "outputId": "3300aedf-9a44-4f2e-90f8-75058a77bae1"
      },
      "execution_count": null,
      "outputs": [
        {
          "output_type": "stream",
          "name": "stdout",
          "text": [
            "1\n",
            "2\n",
            "3\n",
            "4\n",
            "5\n",
            "루프 종료\n"
          ]
        }
      ]
    },
    {
      "cell_type": "markdown",
      "source": [
        "Q. 리스트에서 특정 값 찾기"
      ],
      "metadata": {
        "id": "q5FU3OEx_ZL9"
      }
    },
    {
      "cell_type": "code",
      "source": [
        "numbers = [1, 2, 3, 4, 5]\n",
        "target = 6\n",
        "\n",
        "for num in numbers:\n",
        " if num == target:\n",
        "    print(f'{target}을 찾았습니다.')\n",
        "    break\n",
        "else:\n",
        "  print(f\"{target}을 못찾았습니다.\")"
      ],
      "metadata": {
        "colab": {
          "base_uri": "https://localhost:8080/"
        },
        "id": "TcxxdA1H_c-f",
        "outputId": "39556be6-11e5-4b5d-e651-6c705ec485db"
      },
      "execution_count": null,
      "outputs": [
        {
          "output_type": "stream",
          "name": "stdout",
          "text": [
            "6을 못찾았습니다.\n"
          ]
        }
      ]
    },
    {
      "cell_type": "markdown",
      "source": [
        "Q. 1~20 사이의 정수에서 10보다 작은 홀수만 출력"
      ],
      "metadata": {
        "id": "zjfnpDvpC-Ac"
      }
    },
    {
      "cell_type": "code",
      "source": [
        "for i in range(20):\n",
        "  if i < 10 and i % 2 != 0:\n",
        "    print(i)"
      ],
      "metadata": {
        "colab": {
          "base_uri": "https://localhost:8080/"
        },
        "id": "frl7a9G5DDVa",
        "outputId": "d9ebe00d-7382-431c-c20d-4a2983b7f821"
      },
      "execution_count": null,
      "outputs": [
        {
          "output_type": "stream",
          "name": "stdout",
          "text": [
            "1\n",
            "3\n",
            "5\n",
            "7\n",
            "9\n"
          ]
        }
      ]
    },
    {
      "cell_type": "code",
      "source": [
        "number = int(input(\"정수를 입력하세요 :\"))\n",
        "if number % 2 == 1: # if number % 2 != 0\n",
        "  print(f'입력한 {number}는 홀수입니다.')\n",
        "else:\n",
        "  print(f'입력한 {number}는 짝수입니다.')"
      ],
      "metadata": {
        "colab": {
          "base_uri": "https://localhost:8080/"
        },
        "id": "GygGruTGf9jb",
        "outputId": "1ad23a6b-cf55-4db8-e038-b7d8d8ae78e2"
      },
      "execution_count": null,
      "outputs": [
        {
          "output_type": "stream",
          "name": "stdout",
          "text": [
            "정수를 입력하세요 :1111\n",
            "입력한 1111는 홀수입니다.\n"
          ]
        }
      ]
    },
    {
      "cell_type": "code",
      "source": [
        "for i in range(1,21):\n",
        "  if i < 10:\n",
        "    if i % 2 != 0:\n",
        "      print(i, end = '')\n",
        "  else:\n",
        "    break"
      ],
      "metadata": {
        "colab": {
          "base_uri": "https://localhost:8080/"
        },
        "id": "2dfJTUyFDv_d",
        "outputId": "1cd50964-053e-4fe2-f911-a02fa3c7c123"
      },
      "execution_count": null,
      "outputs": [
        {
          "output_type": "stream",
          "name": "stdout",
          "text": [
            "13579"
          ]
        }
      ]
    },
    {
      "cell_type": "code",
      "source": [
        "# while ~ continue ~ break\n",
        "a = 0\n",
        "while a < 20:\n",
        "  a += 1\n",
        "  if a % 2 == 0:\n",
        "    continue\n",
        "  if a >= 10:\n",
        "    break\n",
        "  print(a, end = ' ')"
      ],
      "metadata": {
        "colab": {
          "base_uri": "https://localhost:8080/"
        },
        "id": "VvVCFgLfEPmM",
        "outputId": "c39f6604-8a65-47ce-ea16-1bcef0513f77"
      },
      "execution_count": null,
      "outputs": [
        {
          "output_type": "stream",
          "name": "stdout",
          "text": [
            "1 3 5 7 9 "
          ]
        }
      ]
    },
    {
      "cell_type": "markdown",
      "source": [
        "Q. 정수 1부터 n까지 더할 때 그 합이 1000보다 커지게 되는 n과 합을 구하세요 (while ~ break)"
      ],
      "metadata": {
        "id": "KcV-WRq_FGk6"
      }
    },
    {
      "cell_type": "code",
      "source": [
        "# 변수 세팅 신경쓰기\n",
        "n = 1\n",
        "sum = 0\n",
        "while 1:\n",
        "  # n = n + 1\n",
        "  sum = sum + n # sum += n\n",
        "  if sum > 1000:\n",
        "    print(n)\n",
        "    print(sum)\n",
        "    break # 조건 만족시 사용\n",
        "  n = n + 1"
      ],
      "metadata": {
        "colab": {
          "base_uri": "https://localhost:8080/"
        },
        "id": "iADY0czMFeL3",
        "outputId": "671aaa6b-0652-43ed-812d-a5a22c215e92"
      },
      "execution_count": null,
      "outputs": [
        {
          "output_type": "stream",
          "name": "stdout",
          "text": [
            "45\n",
            "1035\n"
          ]
        }
      ]
    },
    {
      "cell_type": "code",
      "source": [
        "v = 0\n",
        "sum = 0\n",
        "while sum < 1000:\n",
        "  v = v + 1 # v += 1\n",
        "  sum += v\n",
        "print(v)\n",
        "print(sum)"
      ],
      "metadata": {
        "colab": {
          "base_uri": "https://localhost:8080/"
        },
        "id": "GUKII5erbato",
        "outputId": "b86076e4-53ee-4f83-fe01-02d3701c087b"
      },
      "execution_count": null,
      "outputs": [
        {
          "output_type": "stream",
          "name": "stdout",
          "text": [
            "45\n",
            "1035\n"
          ]
        }
      ]
    },
    {
      "cell_type": "code",
      "source": [
        "sum = 0\n",
        "for i in range(1,45):\n",
        "  sum += i\n",
        "print(sum)"
      ],
      "metadata": {
        "colab": {
          "base_uri": "https://localhost:8080/"
        },
        "id": "GpJkgWxjcuZA",
        "outputId": "51caa099-3599-4f7d-b625-980b91076f1b"
      },
      "execution_count": null,
      "outputs": [
        {
          "output_type": "stream",
          "name": "stdout",
          "text": [
            "990\n"
          ]
        }
      ]
    },
    {
      "cell_type": "markdown",
      "source": [
        "Q. while문을 사용해 1부터 1000까지의 정수 중 3의 배수의 합을 구해보세요"
      ],
      "metadata": {
        "id": "sulKZZ62GFG2"
      }
    },
    {
      "cell_type": "code",
      "source": [
        "count = 1\n",
        "multiple_sum = 0\n",
        "while count <= 1000:\n",
        "  if count % 3 == 0:\n",
        "    multiple_sum += count\n",
        "  count += 1\n",
        "print(multiple_sum)"
      ],
      "metadata": {
        "colab": {
          "base_uri": "https://localhost:8080/"
        },
        "id": "1sWmFhxLGajG",
        "outputId": "3bfa2f94-93d4-424e-8e24-997f52aed096"
      },
      "execution_count": null,
      "outputs": [
        {
          "output_type": "stream",
          "name": "stdout",
          "text": [
            "166833\n"
          ]
        }
      ]
    },
    {
      "cell_type": "code",
      "source": [
        "n = 0\n",
        "sum = 0\n",
        "while n < 1000:\n",
        "  n += 1\n",
        "  if n % 3 == 0:\n",
        "    sum += n\n",
        "print(sum)"
      ],
      "metadata": {
        "id": "6V1oy7MMdt1L"
      },
      "execution_count": null,
      "outputs": []
    },
    {
      "cell_type": "code",
      "source": [
        "n = 3\n",
        "sum = 0\n",
        "while n <= 1000:\n",
        "  sum += n\n",
        "  n += 3\n",
        "print(sum)"
      ],
      "metadata": {
        "colab": {
          "base_uri": "https://localhost:8080/"
        },
        "id": "GnZZIttefM00",
        "outputId": "9eb78cf9-49d3-4e44-ddb7-cd33b94f628e"
      },
      "execution_count": null,
      "outputs": [
        {
          "output_type": "stream",
          "name": "stdout",
          "text": [
            "166833\n"
          ]
        }
      ]
    },
    {
      "cell_type": "markdown",
      "source": [
        "Q. 정수를 입력하면 홀수 짝수를 판별하는 프로그램 작설"
      ],
      "metadata": {
        "id": "UL-UwIXGGNyd"
      }
    },
    {
      "cell_type": "code",
      "source": [
        "i = 1\n",
        "int(input(\"숫자를 입력하세요 :\"))\n",
        "while 1:\n",
        "  if i % 2 != 0:\n",
        "    print('홀수')\n",
        "    break\n",
        "  if i % 2 == 0:\n",
        "    print('짝수')\n",
        "    break"
      ],
      "metadata": {
        "colab": {
          "base_uri": "https://localhost:8080/"
        },
        "id": "cGHKjeArGaHl",
        "outputId": "11470859-ca8f-4b05-a7aa-b8c91b6d07d0"
      },
      "execution_count": null,
      "outputs": [
        {
          "output_type": "stream",
          "name": "stdout",
          "text": [
            "숫자를 입력하세요 :1\n",
            "홀수\n"
          ]
        }
      ]
    },
    {
      "cell_type": "code",
      "source": [
        "'while True:\n",
        "  try:\n",
        "    number = int(input(\"정수를 입력하세요 :\"))\n",
        "    if number % 2 == 1:\n",
        "      print(f'입력한 {number}는 홀수입니다.')\n",
        "    else:\n",
        "      print(f'입력한 {number}는 짝수입니다.')\n",
        "    break # 정수 입력 시 while 루프를 빠져나감\n",
        "  except ValueError:\n",
        "    print(\"정수가 아니에요. 정수를 입력하세요.\")"
      ],
      "metadata": {
        "colab": {
          "base_uri": "https://localhost:8080/"
        },
        "id": "qhhTFaU7hOdr",
        "outputId": "ca7a8239-87fe-4c38-bc00-a752b13afbb2"
      },
      "execution_count": null,
      "outputs": [
        {
          "output_type": "stream",
          "name": "stdout",
          "text": [
            "정수를 입력하세요 :1\n",
            "입력한 1는 홀수입니다.\n"
          ]
        }
      ]
    },
    {
      "cell_type": "markdown",
      "source": [
        "Q. 입력받은 문자열의 각 문자를 그 다음 문자로 변경하여 출력하세요 (ABC -> BCA)"
      ],
      "metadata": {
        "id": "K4YvEaMMgxw5"
      }
    },
    {
      "cell_type": "code",
      "source": [
        "data = input(\"문자 : \")\n",
        "for i in range(len(data)):\n",
        "  if i == 0:\n",
        "    continue\n",
        "  print(data[i], end = '')\n",
        "else:\n",
        "  print(data[0])"
      ],
      "metadata": {
        "colab": {
          "base_uri": "https://localhost:8080/"
        },
        "id": "aYltoTcYg661",
        "outputId": "e72cbeeb-24e5-4ca4-f4d6-c4d80397db6a"
      },
      "execution_count": null,
      "outputs": [
        {
          "output_type": "stream",
          "name": "stdout",
          "text": [
            "문자 : aspoj\n",
            "spoja\n"
          ]
        }
      ]
    },
    {
      "cell_type": "markdown",
      "source": [
        "zip() 함수\n",
        "- 여러 개의 이터러블(리스트, 튜플 등)을 인자로 받아, 동일한 인덱스에 있는 요소들을 하나의 튜플로 묶어서 이터레이터를 반환\n",
        "- 데이터를 병렬로 처리할 때 유용"
      ],
      "metadata": {
        "id": "Vxg8FMelnbG6"
      }
    },
    {
      "cell_type": "code",
      "source": [
        "list1 = [1, 2, 3, 4]\n",
        "list2 = ['a', 'b', 'c', 'd']\n",
        "zipped = zip(list1, list2)\n",
        "print(list(zipped))"
      ],
      "metadata": {
        "colab": {
          "base_uri": "https://localhost:8080/"
        },
        "id": "wEuNb3Z4ncD1",
        "outputId": "187d6113-5478-4270-f1ae-2bf3ed6a42dc"
      },
      "execution_count": null,
      "outputs": [
        {
          "output_type": "stream",
          "name": "stdout",
          "text": [
            "[(1, 'a'), (2, 'b'), (3, 'c'), (4, 'd')]\n"
          ]
        }
      ]
    },
    {
      "cell_type": "markdown",
      "source": [
        "Q. 두 개의 리스트(이름과 성)을 사용하여 각 사람의 전체 이름을 생성하세요"
      ],
      "metadata": {
        "id": "1PJo7khxoTui"
      }
    },
    {
      "cell_type": "code",
      "source": [
        "first_names = [\"John\", \"Jane\", \"Corey\", \"Travis\"]\n",
        "last_names =[\"Doe\", \"Smith\", \"Turner\", \"Williams\"]\n",
        "full_names = [first + \" \" + last for first, last in zip(first_names, last_names)]\n",
        "print(full_names)"
      ],
      "metadata": {
        "colab": {
          "base_uri": "https://localhost:8080/"
        },
        "id": "XS5DUb6goaUW",
        "outputId": "9675a7f8-d5df-46fe-effc-9c0b36366a5b"
      },
      "execution_count": null,
      "outputs": [
        {
          "output_type": "stream",
          "name": "stdout",
          "text": [
            "['John Doe', 'Jane Smith', 'Corey Turner', 'Travis Williams']\n"
          ]
        }
      ]
    },
    {
      "cell_type": "markdown",
      "source": [
        "Q. 학생들의 수학과 영어 점수를 각각의 리스트로 받아 평균 점수를 계산하세요"
      ],
      "metadata": {
        "id": "dBJbb5I9qAP3"
      }
    },
    {
      "cell_type": "code",
      "source": [
        "math_scores = [88, 92, 79, 93, 85]\n",
        "english_scores = [90, 91, 85, 88, 86]\n",
        "average_scores = [(math + english) / 2 for math, english in zip(math_scores, english_scores)]\n",
        "print(average_scores)"
      ],
      "metadata": {
        "colab": {
          "base_uri": "https://localhost:8080/"
        },
        "id": "o_aZszXtqHhX",
        "outputId": "2a5b4caa-d652-4655-879b-54cb932df7ac"
      },
      "execution_count": null,
      "outputs": [
        {
          "output_type": "stream",
          "name": "stdout",
          "text": [
            "[89.0, 91.5, 82.0, 90.5, 85.5]\n"
          ]
        }
      ]
    },
    {
      "cell_type": "markdown",
      "source": [
        "Q. 상품 이름과 가격이 각각 다른 리스트에 저장되어 있을 때, 상품명과 가격을 튜플로 묶오 출력하세요"
      ],
      "metadata": {
        "id": "q4dOcKQlomGP"
      }
    },
    {
      "cell_type": "code",
      "source": [
        "products = [\"apple\", \"banana\", \"cherry\"]\n",
        "prices = [1.2, 0.5, 2.5]\n",
        "for product, price in zip(products, prices):\n",
        "  print(f'Product : {product}, Price \\ {price}')"
      ],
      "metadata": {
        "colab": {
          "base_uri": "https://localhost:8080/"
        },
        "id": "AcOs4Pjdotn_",
        "outputId": "959029f5-3287-476c-92a1-32a6addda4cb"
      },
      "execution_count": null,
      "outputs": [
        {
          "output_type": "stream",
          "name": "stdout",
          "text": [
            "Product : apple, Price \\ 1.2\n",
            "Product : banana, Price \\ 0.5\n",
            "Product : cherry, Price \\ 2.5\n"
          ]
        }
      ]
    },
    {
      "cell_type": "markdown",
      "source": [
        "#### 파이썬의 random 모듈\n",
        "난수를 생성하기 위한 다양한 함수를 제공\n",
        "- 기본 난수 생성:\n",
        "  - random.random(): 0과 1 사이의 무작위 부동소수점 숫자를 반환.\n",
        "- 범위 지정 난수 생성:\n",
        "  - random.randint(a, b): a와 b 사이의 무작위 정수를 반환(b 포함).\n",
        "  - random.randrange(start, stop[, step]): 지정된 범위에서 무작위 정수를 반환. step을 설정하여 수의 간격(poppulation)을 조정할 수 있다.\n",
        "- 시퀀스용 함수:\n",
        "  - random.choice(sequence): 주어진 시퀀스(리스트, 튜플 등)에서 무작위로 아이템을 선택하여 반환.\n",
        "  - random.shuffle(x[, random]): 리스트의 항목들을 무작위로 섞는다. random은 섞기를 위한 함수를 커스텀할 때 사용.\n",
        "  - random.sample(population, k): 주어진 시퀀스에서 무작위로 k개의 항목을 뽑아 새 리스트로 반환.\n",
        "- 분포 기반 난수 생성:\n",
        "  - random.uniform(a, b): a와 b 사이의 무작위 부동소수점 숫자를 균등 분포로 반환.\n",
        "  - random.gauss(mu, sigma): 평균 mu와 표준편차 sigma를 가지는 정규 분포에서 난수를 반환\n",
        "  \n",
        "- numpy\n",
        "\n",
        "평균정규분표포 평균 0 표준편차 1 통계 수학"
      ],
      "metadata": {
        "id": "8CHyTqOzr_c6"
      }
    },
    {
      "cell_type": "code",
      "source": [
        "import random\n",
        "\n",
        "# 0과 1 사이에 난수 생성\n",
        "print(random.random())\n",
        "# 1에서 10 사이의 정수 반환(10 포함)\n",
        "print(random.randint(1,10))\n",
        "# 리스트에서 무작위로 하나의 원소 선택\n",
        "items = [1, 2, 3, 4, 5]\n",
        "print(random.choice(items))\n",
        "# 리스트의 원소를 무작위로 섞기\n",
        "random.shuffle(items)\n",
        "print(items)\n",
        "# 정규분포 난수 생성\n",
        "mean = 0\n",
        "std_dev = 1\n",
        "print(random.gauss(mean, std_dev))"
      ],
      "metadata": {
        "colab": {
          "base_uri": "https://localhost:8080/"
        },
        "id": "m8NVi8dhsWKx",
        "outputId": "ada2366b-938d-456a-80c7-2ee80e14fc70"
      },
      "execution_count": null,
      "outputs": [
        {
          "output_type": "stream",
          "name": "stdout",
          "text": [
            "0.49127089772855903\n",
            "1\n",
            "3\n",
            "[4, 3, 2, 5, 1]\n",
            "-0.8844537976196516\n"
          ]
        }
      ]
    },
    {
      "cell_type": "code",
      "source": [
        "from random import shuffle # 특정부분만 적용됨\n",
        "male = ['철수', '갑돌', '로미오', '이몽룡', '온돌']\n",
        "shuffle(male)\n",
        "male"
      ],
      "metadata": {
        "colab": {
          "base_uri": "https://localhost:8080/"
        },
        "id": "EEqubMB_v-m6",
        "outputId": "d70ed88d-0c3e-4b14-e5c6-4f1db399f8f3"
      },
      "execution_count": null,
      "outputs": [
        {
          "output_type": "execute_result",
          "data": {
            "text/plain": [
              "['철수', '이몽룡', '갑돌', '온돌', '로미오']"
            ]
          },
          "metadata": {},
          "execution_count": 21
        }
      ]
    },
    {
      "cell_type": "code",
      "source": [
        "import random\n",
        "male = ['철수', '갑돌', '로미오', '이몽룡', '온돌']\n",
        "random.shuffle(male)\n",
        "male"
      ],
      "metadata": {
        "colab": {
          "base_uri": "https://localhost:8080/"
        },
        "id": "sUZUfplHwE3q",
        "outputId": "142fd792-0e7a-463f-8e83-4de6613e63a5"
      },
      "execution_count": null,
      "outputs": [
        {
          "output_type": "execute_result",
          "data": {
            "text/plain": [
              "['갑돌', '로미오', '이몽룡', '온돌', '철수']"
            ]
          },
          "metadata": {},
          "execution_count": 22
        }
      ]
    },
    {
      "cell_type": "markdown",
      "source": [
        "Task1_0430. 남녀 파트너 정해주기 프로그램(zip)\n",
        "\n",
        "같은 수의 남녀 모임에서 파트너를 랜덤하게 정해주는 프로그램을 만들어 보세요\n",
        "\n",
        "male = ['철수','갑돌','로미오','이몽룡','온돌']\n",
        "female = ['미미','갑순','줄리엣','성춘향','평강']"
      ],
      "metadata": {
        "id": "L8RE70hkwzhE"
      }
    },
    {
      "cell_type": "code",
      "source": [
        "from random import shuffle\n",
        "male = ['철수','갑돌','로미오','이몽룡','온돌']\n",
        "female = ['미미','갑순','줄리엣','성춘향','평강']\n",
        "shuffle(male)\n",
        "shuffle(female)\n",
        "for male,female in zip(male, female):\n",
        "  print(f'M : {male}, F : {female}')"
      ],
      "metadata": {
        "colab": {
          "base_uri": "https://localhost:8080/"
        },
        "id": "Pxho1cEiwz7X",
        "outputId": "f5912513-2c80-4cb3-a5ce-b0cae16d5db3"
      },
      "execution_count": null,
      "outputs": [
        {
          "output_type": "stream",
          "name": "stdout",
          "text": [
            "M : 철수, F : 성춘향\n",
            "M : 로미오, F : 갑순\n",
            "M : 이몽룡, F : 평강\n",
            "M : 갑돌, F : 미미\n",
            "M : 온돌, F : 줄리엣\n"
          ]
        }
      ]
    },
    {
      "cell_type": "markdown",
      "source": [
        "Task2_0430. 대문자, 소문자, 숫자를 포함하는 8자리 랜덤 비밀번호를 생성하는 프로그램을 작성하세요."
      ],
      "metadata": {
        "id": "s_VQhv0FzpsJ"
      }
    },
    {
      "cell_type": "code",
      "source": [
        "import random\n",
        "from string import ascii_lowercase\n",
        "from string import ascii_uppercase\n",
        "aList = list(ascii_lowercase)\n",
        "bList = list(ascii_uppercase)\n",
        "a = []\n",
        "for i in range(10):\n",
        "    a.append(0)\n",
        "random.shuffle(aList)\n",
        "random.shuffle(bList)\n",
        "random.shuffle(a)"
      ],
      "metadata": {
        "id": "4hxt_QNjzrL0"
      },
      "execution_count": null,
      "outputs": []
    },
    {
      "cell_type": "markdown",
      "source": [
        "Task3_0430. 발표자 수를 랜덤하게 출력하는 프로그램을 작성하세요.(발표자 수 입력)\n",
        "\n",
        "kita = ['김성현','황강민','윤호준','류윤선','이상협','박지환','최환욱','서보선','김한결','김도현','김하준',\n",
        "        '김도원','신현진','소지승','이범석','이현석','이명신','박윤경','이도헌','김홍준']"
      ],
      "metadata": {
        "id": "vVdqWbl-zrd-"
      }
    },
    {
      "cell_type": "code",
      "source": [
        "import random\n",
        "kita = ['김성현','황강민','윤호준','류윤선','이상협','박지환','최환욱','서보선','김한결','김도현','김하준',\n",
        "        '김도원','신현진','소지승','이범석','이현석','이명신','박윤경','이도헌','김홍준']\n",
        "random.shuffle(kita)"
      ],
      "metadata": {
        "id": "puaN9qw9zt-_"
      },
      "execution_count": null,
      "outputs": []
    },
    {
      "cell_type": "markdown",
      "source": [
        "Task4_0430. 사용자로부터 숫자를 입력받아 해당 숫자의 구구단을 출력하는 프로그램을 작성하세요."
      ],
      "metadata": {
        "id": "unThSgqfzzFL"
      }
    },
    {
      "cell_type": "code",
      "source": [
        "of = int(input(\"Num : \"))\n",
        "st = int(input(\"Num : \"))\n",
        "print(of*st)"
      ],
      "metadata": {
        "id": "dSfRe-V00qrM",
        "colab": {
          "base_uri": "https://localhost:8080/"
        },
        "outputId": "89e796fd-d24b-48e0-bdcd-78c96ee6fc75"
      },
      "execution_count": null,
      "outputs": [
        {
          "output_type": "stream",
          "name": "stdout",
          "text": [
            "Num : 235\n",
            "Num : 465\n",
            "109275\n"
          ]
        }
      ]
    },
    {
      "cell_type": "markdown",
      "source": [
        "Task5_0430. 사용자로부터 숫자를 입력받아 해당 숫자의 팩토리얼을 계산하세요.\n",
        "\n",
        "5! = 5 x 4 x 3 x 2 x 1 = 120"
      ],
      "metadata": {
        "id": "l8Zrg0nOz06A"
      }
    },
    {
      "cell_type": "code",
      "source": [
        "int(input(\"Num : \"))\n"
      ],
      "metadata": {
        "colab": {
          "base_uri": "https://localhost:8080/"
        },
        "id": "ZbWJRykVz2fa",
        "outputId": "01d1c21b-8683-40b6-80a2-6ce0cf9f8796"
      },
      "execution_count": null,
      "outputs": [
        {
          "name": "stdout",
          "output_type": "stream",
          "text": [
            "Num : 1\n"
          ]
        },
        {
          "output_type": "execute_result",
          "data": {
            "text/plain": [
              "1"
            ]
          },
          "metadata": {},
          "execution_count": 23
        }
      ]
    },
    {
      "cell_type": "markdown",
      "source": [
        "Task6_0430. 0부터 20까지의 숫자 중에서 짝수와 홀수를 분리하여 두 개의 리스트에 저장하세요."
      ],
      "metadata": {
        "id": "p9KFqIVjz2vj"
      }
    },
    {
      "cell_type": "code",
      "source": [
        "list1 = []\n",
        "list2 = []\n",
        "for i in range(20):\n",
        "  if i % 2 == 1:\n",
        "    list1.append(i)\n",
        "    i += 2\n",
        "  elif i % 2 == 0:\n",
        "    list2.append(i)\n",
        "    i += 2\n",
        "print(list1)\n",
        "print(list2)"
      ],
      "metadata": {
        "colab": {
          "base_uri": "https://localhost:8080/"
        },
        "id": "JqtwZ3-rz4Wz",
        "outputId": "7ec7279e-0898-481e-c005-bdb48a18592f"
      },
      "execution_count": null,
      "outputs": [
        {
          "output_type": "stream",
          "name": "stdout",
          "text": [
            "[1, 3, 5, 7, 9, 11, 13, 15, 17, 19]\n",
            "[0, 2, 4, 6, 8, 10, 12, 14, 16, 18]\n"
          ]
        }
      ]
    },
    {
      "cell_type": "markdown",
      "source": [
        "Task7_0430. 주어진 리스트에서 최대값을 찾아 출력하세요.\n",
        "\n",
        "numbers = [34, 78, 2, 45, 99, 23]"
      ],
      "metadata": {
        "id": "XDQYRkcez4vO"
      }
    },
    {
      "cell_type": "code",
      "source": [
        "numbers = [34, 78, 2, 45, 99, 23]\n",
        "\n",
        "largest = numbers[0]\n",
        "for i in numbers:\n",
        "  if i > largest:\n",
        "    largest = i\n",
        "\n",
        "print(largest)"
      ],
      "metadata": {
        "id": "hcGgsCZnz6QN",
        "colab": {
          "base_uri": "https://localhost:8080/"
        },
        "outputId": "13def63d-7e50-401b-faea-6941a1586a7d"
      },
      "execution_count": null,
      "outputs": [
        {
          "output_type": "stream",
          "name": "stdout",
          "text": [
            "99\n"
          ]
        }
      ]
    },
    {
      "cell_type": "markdown",
      "source": [
        "Task8_0430.  1부터 10 사이의 임의의 숫자를 맞추는 게임을 만드세요. 사용자가 숫자를 맞출 때까지 입력을 계속 받으며, 정답을 맞추면 게임을 종료하세요. 단, 입력 숫자가 정답보다 큰지 작은지 힌트를 주는 방식으로 코드 작성"
      ],
      "metadata": {
        "id": "rK6W7enaz6lj"
      }
    },
    {
      "cell_type": "code",
      "source": [
        "while Ture:\n",
        "  try:\n",
        "    if i in range(10):\n",
        "\n"
      ],
      "metadata": {
        "id": "H8JdxT6Sz8gR"
      },
      "execution_count": null,
      "outputs": []
    },
    {
      "cell_type": "markdown",
      "source": [
        "Task9_0430. 태어난 연도를 입력받아 띠를 출력하는 프로그램을 작성하세요."
      ],
      "metadata": {
        "id": "ilhLEMR3z79E"
      }
    },
    {
      "cell_type": "code",
      "source": [
        "int(input(\"Num : \"))"
      ],
      "metadata": {
        "id": "Xo5LuscOz9KB"
      },
      "execution_count": null,
      "outputs": []
    },
    {
      "cell_type": "markdown",
      "source": [
        "Task10_0430. 아래 사항을 반영하여 커피 자판기 프로그램을 작성하세요.\n",
        "- 시나리오 : 자판기 커피 재고 5잔, 커피 1잔 가격 300원, 재고 범위내에서 300원 이상 돈을 넣으면 거스름돈과 커피를 주고 그렇지 않으면 반환하며 재고가 소진되면 안내멘트 출력\n",
        "- 각 Case별 멘트 출력은 상황에 맞게 창작\n",
        "- while, if ~ elif ~ else 제어문을 사용하여 작성"
      ],
      "metadata": {
        "id": "wrIjWEYdz9Ww"
      }
    },
    {
      "cell_type": "code",
      "source": [],
      "metadata": {
        "id": "DHOw1erf0Dvl"
      },
      "execution_count": null,
      "outputs": []
    }
  ]
}